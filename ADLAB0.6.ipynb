{
 "cells": [
  {
   "cell_type": "code",
   "execution_count": 8,
   "id": "f8622818-7c57-4ffd-97d2-c727ac71d411",
   "metadata": {},
   "outputs": [
    {
     "name": "stdout",
     "output_type": "stream",
     "text": [
      "Addition:\n",
      " 0    11\n",
      "1    17\n",
      "2     7\n",
      "dtype: int64\n",
      "Subtraction:\n",
      " 0     9\n",
      "1    13\n",
      "2    -1\n",
      "dtype: int64\n",
      "Multiplication:\n",
      " 0    10\n",
      "1    30\n",
      "2    12\n",
      "dtype: int64\n",
      "Division:\n",
      " 0    10.00\n",
      "1     7.50\n",
      "2     0.75\n",
      "dtype: float64\n"
     ]
    }
   ],
   "source": [
    "import pandas as pd\n",
    "\n",
    "s1 = pd.Series([10, 15, 3])\n",
    "s2 = pd.Series([1, 2, 4])\n",
    "\n",
    "addition = s1 + s2\n",
    "subtraction = s1 - s2\n",
    "multiplication = s1 * s2\n",
    "division = s1 / s2\n",
    "\n",
    "print(\"Addition:\\n\", addition)\n",
    "print(\"Subtraction:\\n\", subtraction)\n",
    "print(\"Multiplication:\\n\", multiplication)\n",
    "print(\"Division:\\n\", division)\n"
   ]
  },
  {
   "cell_type": "code",
   "execution_count": null,
   "id": "b988241b-1af2-4002-abc6-1539a266912b",
   "metadata": {},
   "outputs": [],
   "source": []
  }
 ],
 "metadata": {
  "kernelspec": {
   "display_name": "Python (your_environment_name)",
   "language": "python",
   "name": "your_environment_name"
  },
  "language_info": {
   "codemirror_mode": {
    "name": "ipython",
    "version": 3
   },
   "file_extension": ".py",
   "mimetype": "text/x-python",
   "name": "python",
   "nbconvert_exporter": "python",
   "pygments_lexer": "ipython3",
   "version": "3.12.3"
  }
 },
 "nbformat": 4,
 "nbformat_minor": 5
}
