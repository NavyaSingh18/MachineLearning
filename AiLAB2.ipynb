{
 "cells": [
  {
   "cell_type": "code",
   "execution_count": 10,
   "id": "84197f87-68a3-48a4-8180-650837d5065e",
   "metadata": {},
   "outputs": [
    {
     "name": "stdout",
     "output_type": "stream",
     "text": [
      "BFS: ['A', 'B', 'C', 'D', 'E', 'F']\n",
      "DFS: ['A', 'B', 'D', 'E', 'F', 'C']\n"
     ]
    }
   ],
   "source": [
    "from collections import deque\n",
    "\n",
    "# BFS Implementation\n",
    "def bfs_477(graph_477, start_477):\n",
    "    visited_477 = set()\n",
    "    queue_477 = deque([start_477])\n",
    "    result_477 = []\n",
    "\n",
    "    while queue_477:\n",
    "        node_477 = queue_477.popleft()\n",
    "        if node_477 not in visited_477:\n",
    "            visited_477.add(node_477)\n",
    "            result_477.append(node_477)\n",
    "            queue_477.extend(graph_477[node_477])\n",
    "\n",
    "    return result_477\n",
    "\n",
    "# Example usage for BFS\n",
    "graph_477 = {\n",
    "    'A': ['B', 'C'],\n",
    "    'B': ['D', 'E'],\n",
    "    'C': ['F'],\n",
    "    'D': [],\n",
    "    'E': ['F'],\n",
    "    'F': []\n",
    "}\n",
    "\n",
    "start_node_477 = 'A'\n",
    "print(\"BFS:\", bfs_477(graph_477, start_node_477))\n",
    "\n",
    "# DFS Implementation\n",
    "def dfs_477(graph_477, start_477):\n",
    "    visited_477 = set()\n",
    "    stack_477 = [start_477]\n",
    "    result_477 = []\n",
    "\n",
    "    while stack_477:\n",
    "        node_477 = stack_477.pop()\n",
    "        if node_477 not in visited_477:\n",
    "            visited_477.add(node_477)\n",
    "            result_477.append(node_477)\n",
    "            stack_477.extend(reversed(graph_477[node_477]))\n",
    "\n",
    "    return result_477\n",
    "\n",
    "# Example usage for DFS\n",
    "graph_477 = {\n",
    "    'A': ['B', 'C'],\n",
    "    'B': ['D', 'E'],\n",
    "    'C': ['F'],\n",
    "    'D': [],\n",
    "    'E': ['F'],\n",
    "    'F': []\n",
    "}\n",
    "\n",
    "start_node_477 = 'A'\n",
    "print(\"DFS:\", dfs_477(graph_477, start_node_477))\n"
   ]
  },
  {
   "cell_type": "code",
   "execution_count": 7,
   "id": "df583655-d05b-4b27-952d-d8ba0d7a1ce6",
   "metadata": {},
   "outputs": [
    {
     "name": "stdout",
     "output_type": "stream",
     "text": [
      "DFS: ['A', 'B', 'D', 'E', 'F', 'C']\n"
     ]
    }
   ],
   "source": [
    "def dfs_477(graph_477, start_477):\n",
    "    visited_477 = set()\n",
    "    stack_477 = [start_477]\n",
    "    result_477 = []\n",
    "\n",
    "    while stack_477:\n",
    "        vertex_477 = stack_477.pop()\n",
    "        if vertex_477 not in visited_477:\n",
    "            visited_477.add(vertex_477)\n",
    "            result_477.append(vertex_477)\n",
    "            stack_477.extend(reversed(graph_477[vertex_477]))\n",
    "\n",
    "    return result_477\n",
    "graph_477 = {\n",
    "    'A': ['B', 'C'],\n",
    "    'B': ['D', 'E'],\n",
    "    'C': ['F'],\n",
    "    'D': [],\n",
    "    'E': ['F'],\n",
    "    'F': []\n",
    "}\n",
    "\n",
    "start_node_477 = 'A'\n",
    "print(\"DFS:\", dfs_477(graph_477, start_node_477))"
   ]
  },
  {
   "cell_type": "code",
   "execution_count": null,
   "id": "81f7467a-7a4a-4298-8f16-a0a932a7970d",
   "metadata": {},
   "outputs": [],
   "source": []
  }
 ],
 "metadata": {
  "kernelspec": {
   "display_name": "Python 3 (ipykernel)",
   "language": "python",
   "name": "python3"
  },
  "language_info": {
   "codemirror_mode": {
    "name": "ipython",
    "version": 3
   },
   "file_extension": ".py",
   "mimetype": "text/x-python",
   "name": "python",
   "nbconvert_exporter": "python",
   "pygments_lexer": "ipython3",
   "version": "3.12.7"
  }
 },
 "nbformat": 4,
 "nbformat_minor": 5
}
