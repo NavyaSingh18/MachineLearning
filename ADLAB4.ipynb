{
 "cells": [
  {
   "cell_type": "code",
   "execution_count": 12,
   "id": "083d03ee-8dd5-432f-b797-ba32f6c189a8",
   "metadata": {},
   "outputs": [
    {
     "name": "stdout",
     "output_type": "stream",
     "text": [
      "[1, 5, 7, 11, 3]\n"
     ]
    }
   ],
   "source": [
    "def remove_even_numbers(input_list):\n",
    "    return [num for num in input_list if num % 2 != 0]\n",
    "\n",
    "\n",
    "numbers = [1, 5, 7, 8, 4, 6, 11, 8, 3]\n",
    "result = remove_even_numbers(numbers)\n",
    "print(result)  \n"
   ]
  },
  {
   "cell_type": "code",
   "execution_count": 13,
   "id": "1087dcb9-4f2e-4785-87ed-3d037833147c",
   "metadata": {},
   "outputs": [
    {
     "name": "stdout",
     "output_type": "stream",
     "text": [
      "[1, 3, 4, 5, 6, 7]\n"
     ]
    }
   ],
   "source": [
    "def merge_unique_lists(list1, list2):\n",
    "    return list(set(list1 + list2))\n",
    "\n",
    "\n",
    "list1 = [1, 5, 7, 4]\n",
    "list2 = [3, 4, 5, 6]\n",
    "result = merge_unique_lists(list1, list2)\n",
    "print(result)  \n"
   ]
  },
  {
   "cell_type": "code",
   "execution_count": 18,
   "id": "4426ffa1-73e0-4f3e-8363-adc4330beabc",
   "metadata": {},
   "outputs": [
    {
     "name": "stdout",
     "output_type": "stream",
     "text": [
      "(50, 120, 610, 40, 100)\n"
     ]
    }
   ],
   "source": [
    "def swap_tuple_elements(input_tuple):\n",
    "    if len(input_tuple) > 1:\n",
    "        return (input_tuple[-1],) + input_tuple[1:-1] + (input_tuple[0],)\n",
    "    return input_tuple\n",
    "\n",
    "\n",
    "tuple_data = (100, 120, 610, 40, 50)\n",
    "result = swap_tuple_elements(tuple_data)\n",
    "print(result)  \n"
   ]
  },
  {
   "cell_type": "code",
   "execution_count": 20,
   "id": "9faaeb36-7ecd-40dc-b7f3-7fd5c1580957",
   "metadata": {},
   "outputs": [
    {
     "name": "stdout",
     "output_type": "stream",
     "text": [
      "{1: 2, 2: 5, 3: 4, 4: 4}\n"
     ]
    }
   ],
   "source": [
    "from collections import Counter\n",
    "\n",
    "def count_occurrences(input_tuple):\n",
    "    return dict(Counter(input_tuple))\n",
    "\n",
    "\n",
    "tuple_data = (1,1, 2, 2,2,2,2, 3, 3, 3, 3, 4, 4, 4, 4)\n",
    "result = count_occurrences(tuple_data)\n",
    "print(result)  \n",
    "\n"
   ]
  },
  {
   "cell_type": "code",
   "execution_count": 21,
   "id": "c5a62c69-f301-4e7e-9d80-19d4b410554c",
   "metadata": {},
   "outputs": [
    {
     "name": "stdout",
     "output_type": "stream",
     "text": [
      "{3, 4, 5, 6}\n"
     ]
    }
   ],
   "source": [
    "def intersection_of_sets(set1, set2):\n",
    "    return set1 & set2\n",
    "\n",
    "set1 = {6, 5, 3, 4}\n",
    "set2 = {3, 4, 5, 6}\n",
    "result = intersection_of_sets(set1, set2)\n",
    "print(result) \n"
   ]
  },
  {
   "cell_type": "code",
   "execution_count": 23,
   "id": "615ca7b4-839a-4429-a757-c7a963beb0d8",
   "metadata": {},
   "outputs": [
    {
     "name": "stdout",
     "output_type": "stream",
     "text": [
      "{8, 2, 3, 5}\n"
     ]
    }
   ],
   "source": [
    "def remove_elements(set1, set2):\n",
    "    return set1 - set2\n",
    "\n",
    "\n",
    "set1 = {1, 2, 3, 4, 5,8,7}\n",
    "set2 = {4, 1, 6, 7}\n",
    "result = remove_elements(set1, set2)\n",
    "print(result) \n"
   ]
  },
  {
   "cell_type": "code",
   "execution_count": 24,
   "id": "dd0f5f8c-1f78-463a-a1c0-00770e327422",
   "metadata": {},
   "outputs": [
    {
     "name": "stdout",
     "output_type": "stream",
     "text": [
      "{'a': 5, 'b': 2, 'c': 3, 'e': 4}\n"
     ]
    }
   ],
   "source": [
    "def merge_and_sum_dicts(dict1, dict2):\n",
    "    result = dict1.copy()  \n",
    "    for key, value in dict2.items():\n",
    "        result[key] = result.get(key, 0) + value\n",
    "    return result\n",
    "\n",
    "\n",
    "dict1 = {'a': 5, 'b': 2}\n",
    "dict2 = {'c': 3, 'e': 4}\n",
    "result = merge_and_sum_dicts(dict1, dict2)\n",
    "print(result)  \n"
   ]
  },
  {
   "cell_type": "code",
   "execution_count": 25,
   "id": "14d6289c-c650-42de-89f9-4d10c6c36fbb",
   "metadata": {},
   "outputs": [
    {
     "name": "stdout",
     "output_type": "stream",
     "text": [
      "b\n"
     ]
    }
   ],
   "source": [
    "def find_max_value_key(input_dict):\n",
    "    return max(input_dict, key=input_dict.get)\n",
    "\n",
    "\n",
    "dict_data = {'a': 100, 'b': 120, 'c': 30}\n",
    "result = find_max_value_key(dict_data)\n",
    "print(result)\n"
   ]
  },
  {
   "cell_type": "code",
   "execution_count": null,
   "id": "354cb2ff-7b0a-4e03-b39c-ba72588abcc6",
   "metadata": {},
   "outputs": [],
   "source": []
  },
  {
   "cell_type": "code",
   "execution_count": null,
   "id": "42cc76a3-7b36-4f99-8db4-f4e42ff3ef30",
   "metadata": {},
   "outputs": [],
   "source": []
  }
 ],
 "metadata": {
  "kernelspec": {
   "display_name": "Python 3 (ipykernel)",
   "language": "python",
   "name": "python3"
  },
  "language_info": {
   "codemirror_mode": {
    "name": "ipython",
    "version": 3
   },
   "file_extension": ".py",
   "mimetype": "text/x-python",
   "name": "python",
   "nbconvert_exporter": "python",
   "pygments_lexer": "ipython3",
   "version": "3.12.7"
  }
 },
 "nbformat": 4,
 "nbformat_minor": 5
}
