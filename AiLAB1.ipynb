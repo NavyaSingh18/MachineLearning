{
 "cells": [
  {
   "cell_type": "code",
   "execution_count": 1,
   "id": "dbdda170-6235-46eb-8ef4-4afe5eb47c6a",
   "metadata": {},
   "outputs": [
    {
     "name": "stdout",
     "output_type": "stream",
     "text": [
      "10\n"
     ]
    }
   ],
   "source": [
    "a= 10\n",
    "print(a)"
   ]
  },
  {
   "cell_type": "code",
   "execution_count": 2,
   "id": "bd45f019-8e8c-4124-9282-cf68abdcda17",
   "metadata": {},
   "outputs": [
    {
     "name": "stdin",
     "output_type": "stream",
     "text": [
      "Enter a number 12\n",
      "Enter a number 34\n"
     ]
    },
    {
     "name": "stdout",
     "output_type": "stream",
     "text": [
      "46\n"
     ]
    }
   ],
   "source": [
    "num1 = int(input(\"Enter a number\"))\n",
    "num2 = int(input(\"Enter a number\"))\n",
    "sum = num1 + num2\n",
    "print(sum)\n"
   ]
  },
  {
   "cell_type": "code",
   "execution_count": 2,
   "id": "dcc86d73-a18e-4327-ba9a-de242ff412c2",
   "metadata": {},
   "outputs": [
    {
     "name": "stdin",
     "output_type": "stream",
     "text": [
      "Enter a string noob\n"
     ]
    },
    {
     "name": "stdout",
     "output_type": "stream",
     "text": [
      "no\n"
     ]
    }
   ],
   "source": [
    "def ispalindrome(s):\n",
    "    return s == s[:: -1]\n",
    "s = (input(\"Enter a string\"))\n",
    "ans = ispalindrome(s)\n",
    "if ans:\n",
    "    print(\"yes\")\n",
    "else:\n",
    "    print(\"no\")"
   ]
  },
  {
   "cell_type": "code",
   "execution_count": 10,
   "id": "c1fac9f9-7a2b-46a0-845d-4cbefd0e0ad2",
   "metadata": {},
   "outputs": [
    {
     "name": "stdin",
     "output_type": "stream",
     "text": [
      "Enter the number 6\n"
     ]
    },
    {
     "name": "stdout",
     "output_type": "stream",
     "text": [
      "the factorial of 6 is 720\n"
     ]
    }
   ],
   "source": [
    "num = int(input(\"Enter the number\"))\n",
    "factorial = 1\n",
    "for i in range(1,num+1):\n",
    "    factorial= factorial*i\n",
    "    \n",
    "print(f\"the factorial of {num} is {factorial}\")"
   ]
  },
  {
   "cell_type": "markdown",
   "id": "3c7baab0-e2c1-4285-bc14-ccff52c23857",
   "metadata": {},
   "source": [
    "def findsum(n):\n",
    "    sum = 0\n",
    "    x = 1\n",
    "    while x <= n:\n",
    "        sum = sum + x\n",
    "        x = x + 1\n",
    "        \n",
    "    return sum\n",
    "\n",
    "n = int(input(\"Enter a number\"))\n",
    "print (findsum(n))\n",
    "    "
   ]
  },
  {
   "cell_type": "code",
   "execution_count": 4,
   "id": "e0ef3301-ea0d-4468-9334-2e7f524ca97a",
   "metadata": {},
   "outputs": [
    {
     "name": "stdin",
     "output_type": "stream",
     "text": [
      "Enter a number 3\n"
     ]
    },
    {
     "name": "stdout",
     "output_type": "stream",
     "text": [
      "Total count of digits in are 1\n"
     ]
    }
   ],
   "source": [
    "n = int(input(\"Enter a number\"))\n",
    "count = 0\n",
    "while(n!=0):\n",
    "     count = count +1\n",
    "     n = n//10\n",
    "print(f\"Total count of digits in are {count}\")\n",
    "\n",
    "         "
   ]
  },
  {
   "cell_type": "code",
   "execution_count": 30,
   "id": "c7bb3a99-3d1f-4986-aafa-6247696aef3c",
   "metadata": {},
   "outputs": [
    {
     "name": "stdin",
     "output_type": "stream",
     "text": [
      "Enter a number 4\n"
     ]
    },
    {
     "name": "stdout",
     "output_type": "stream",
     "text": [
      "4 x 1 = 4\n",
      "4 x 2 = 8\n",
      "4 x 3 = 12\n",
      "4 x 4 = 16\n",
      "4 x 5 = 20\n",
      "4 x 6 = 24\n",
      "4 x 7 = 28\n",
      "4 x 8 = 32\n",
      "4 x 9 = 36\n",
      "4 x 10 = 40\n"
     ]
    }
   ],
   "source": [
    "num = int(input(\"Enter a number\"))\n",
    "for i in range (1,11):\n",
    "     print(f\"{num} x {i} = {num*i}\")"
   ]
  },
  {
   "cell_type": "code",
   "execution_count": 31,
   "id": "c92d20f7-06f0-4f43-bd91-336833978172",
   "metadata": {},
   "outputs": [
    {
     "name": "stdin",
     "output_type": "stream",
     "text": [
      "Enter kilometers 5\n"
     ]
    },
    {
     "name": "stdout",
     "output_type": "stream",
     "text": [
      " 5.0 Kilometers is equal to 3.106855 miles\n"
     ]
    }
   ],
   "source": [
    "kilometer = float(input(\"Enter kilometers\"))\n",
    "conversionfactor = 0.621371\n",
    "miles = kilometer * conversionfactor\n",
    "print(f\" {kilometer} Kilometers is equal to {miles} miles\")"
   ]
  },
  {
   "cell_type": "code",
   "execution_count": 33,
   "id": "73428096-6382-407f-9934-e8fde19b64d9",
   "metadata": {},
   "outputs": [
    {
     "name": "stdin",
     "output_type": "stream",
     "text": [
      "Enter elements separated by space: 12 13 45 67 98 45 23 12 \n"
     ]
    },
    {
     "name": "stdout",
     "output_type": "stream",
     "text": [
      " List:['12', '13', '45', '67', '98', '45', '23', '12']\n",
      "98\n"
     ]
    }
   ],
   "source": [
    "list = input(\"Enter elements separated by space:\").split()\n",
    "print(f\" List:{list}\")\n",
    "largest = max(list)\n",
    "print (largest)"
   ]
  },
  {
   "cell_type": "code",
   "execution_count": 12,
   "id": "815646ed-171c-4969-82fa-ec87c8c52441",
   "metadata": {},
   "outputs": [
    {
     "name": "stdin",
     "output_type": "stream",
     "text": [
      "Enter a number 8\n"
     ]
    },
    {
     "name": "stdout",
     "output_type": "stream",
     "text": [
      "13\n"
     ]
    }
   ],
   "source": [
    "\n",
    "def fibonacci(n):\n",
    "    if n <= 0:\n",
    "        return \"Incorrect Output\"\n",
    "    data = [0, 1]\n",
    "    if n > 2:\n",
    "        for i in range(2, n):\n",
    "            data.append(data[i-1] + data[i-2])\n",
    "    return data[n-1]\n",
    "\n",
    "n = int(input('Enter a number'))\n",
    "print(fibonacci(n))"
   ]
  },
  {
   "cell_type": "code",
   "execution_count": 2,
   "id": "fd7ba4ed-6aad-4496-b4dc-3e07f4bc2783",
   "metadata": {},
   "outputs": [
    {
     "name": "stdin",
     "output_type": "stream",
     "text": [
      "Enter a number 12\n",
      "Enter a number 34\n"
     ]
    },
    {
     "name": "stdout",
     "output_type": "stream",
     "text": [
      "46\n"
     ]
    }
   ],
   "source": [
    "num1 = int(input(\"Enter a number\"))\n",
    "num2 = int(input(\"Enter a number\"))\n",
    "sum = num1 + num2\n",
    "print(sum)\n"
   ]
  },
  {
   "cell_type": "code",
   "execution_count": null,
   "id": "ce54afb3-33d8-4dca-a8bb-6d2eb17c46d8",
   "metadata": {},
   "outputs": [],
   "source": []
  }
 ],
 "metadata": {
  "kernelspec": {
   "display_name": "Python 3 (ipykernel)",
   "language": "python",
   "name": "python3"
  },
  "language_info": {
   "codemirror_mode": {
    "name": "ipython",
    "version": 3
   },
   "file_extension": ".py",
   "mimetype": "text/x-python",
   "name": "python",
   "nbconvert_exporter": "python",
   "pygments_lexer": "ipython3",
   "version": "3.12.7"
  }
 },
 "nbformat": 4,
 "nbformat_minor": 5
}
