{
 "cells": [
  {
   "cell_type": "code",
   "execution_count": 38,
   "id": "d75bc492-c99a-463d-827c-f73bb0454c32",
   "metadata": {},
   "outputs": [
    {
     "name": "stdout",
     "output_type": "stream",
     "text": [
      "Factorial of 8 is: 40320\n"
     ]
    }
   ],
   "source": [
    "#factorial of a number\n",
    "a= 8\n",
    "f= 1\n",
    "for i in range (1, a+1):\n",
    "    f = f*i\n",
    "\n",
    "print(f'Factorial of {a} is: {f}')"
   ]
  },
  {
   "cell_type": "code",
   "execution_count": 39,
   "id": "2ce80d4b-4760-40a2-a18a-79e126bcebe2",
   "metadata": {},
   "outputs": [
    {
     "name": "stdin",
     "output_type": "stream",
     "text": [
      "Enter a number 567\n"
     ]
    },
    {
     "name": "stdout",
     "output_type": "stream",
     "text": [
      "18\n"
     ]
    }
   ],
   "source": [
    "#sum of digits\n",
    "def getSum(n): \n",
    "   \n",
    "    sum = 0\n",
    "    for digit in str(n):  \n",
    "      sum = sum + int(digit)       \n",
    "    return sum\n",
    "  \n",
    "n = input('Enter a number')\n",
    "print(getSum(n))"
   ]
  },
  {
   "cell_type": "code",
   "execution_count": 40,
   "id": "ddc0e3c1-257b-4ec5-a566-41b554a4cf06",
   "metadata": {},
   "outputs": [
    {
     "name": "stdin",
     "output_type": "stream",
     "text": [
      "Enter a number:  3456784\n"
     ]
    },
    {
     "name": "stdout",
     "output_type": "stream",
     "text": [
      "Reversed Number: 4876543\n"
     ]
    }
   ],
   "source": [
    "def reverse_number(n):\n",
    "    return int(str(n)[::-1])\n",
    "\n",
    "num = int(input(\"Enter a number: \"))\n",
    "print(\"Reversed Number:\", reverse_number(num))\n"
   ]
  },
  {
   "cell_type": "code",
   "execution_count": 41,
   "id": "8d2d3f39-6dde-4867-84b5-39138eb9c76e",
   "metadata": {},
   "outputs": [
    {
     "name": "stdin",
     "output_type": "stream",
     "text": [
      "Enter two numbers:  23 46\n"
     ]
    },
    {
     "name": "stdout",
     "output_type": "stream",
     "text": [
      "GCD: 23\n"
     ]
    }
   ],
   "source": [
    "from math import gcd\n",
    "\n",
    "a, b = map(int, input(\"Enter two numbers: \").split())\n",
    "print(\"GCD:\", gcd(a, b))\n"
   ]
  },
  {
   "cell_type": "code",
   "execution_count": 42,
   "id": "665248f0-c729-4f92-822d-3b1d391e100f",
   "metadata": {},
   "outputs": [
    {
     "name": "stdin",
     "output_type": "stream",
     "text": [
      "Enter a number:  34\n"
     ]
    },
    {
     "name": "stdout",
     "output_type": "stream",
     "text": [
      "Not a Prime Number\n"
     ]
    }
   ],
   "source": [
    "def is_prime(n):\n",
    "    if n < 2:\n",
    "        return False\n",
    "    for i in range(2, int(n**0.5) + 1):\n",
    "        if n % i == 0:\n",
    "            return False\n",
    "    return True\n",
    "\n",
    "num = int(input(\"Enter a number: \"))\n",
    "print(\"Prime Number\" if is_prime(num) else \"Not a Prime Number\")\n"
   ]
  },
  {
   "cell_type": "code",
   "execution_count": 43,
   "id": "ffd035bb-9fbc-4133-a285-68e7fccb0a11",
   "metadata": {
    "scrolled": true
   },
   "outputs": [
    {
     "name": "stdin",
     "output_type": "stream",
     "text": [
      "Enter range (start and end):  1 15\n"
     ]
    },
    {
     "name": "stdout",
     "output_type": "stream",
     "text": [
      "Odd numbers: [1, 3, 5, 7, 9, 11, 13, 15]\n",
      "Even numbers: [2, 4, 6, 8, 10, 12, 14]\n"
     ]
    }
   ],
   "source": [
    "def print_odd_even(start, end):\n",
    "    print(\"Odd numbers:\", [x for x in range(start, end + 1) if x % 2 != 0])\n",
    "    print(\"Even numbers:\", [x for x in range(start, end + 1) if x % 2 == 0])\n",
    "\n",
    "start, end = map(int, input(\"Enter range (start and end): \").split())\n",
    "print_odd_even(start, end)\n"
   ]
  },
  {
   "cell_type": "code",
   "execution_count": 44,
   "id": "5c452a54-889d-4a5f-9a91-4ca1a38da8f1",
   "metadata": {},
   "outputs": [
    {
     "name": "stdin",
     "output_type": "stream",
     "text": [
      "Enter x and n:  12 3\n"
     ]
    },
    {
     "name": "stdout",
     "output_type": "stream",
     "text": [
      "y = 1728\n"
     ]
    }
   ],
   "source": [
    "def evaluate(x, n):\n",
    "    return x ** n\n",
    "\n",
    "x, n = map(int, input(\"Enter x and n: \").split())\n",
    "print(\"y =\", evaluate(x, n))\n"
   ]
  },
  {
   "cell_type": "code",
   "execution_count": 45,
   "id": "de115773-8c4b-4074-9c39-5d51ed71dd42",
   "metadata": {},
   "outputs": [
    {
     "name": "stdin",
     "output_type": "stream",
     "text": [
      "Enter a number:  28\n"
     ]
    },
    {
     "name": "stdout",
     "output_type": "stream",
     "text": [
      "Perfect Number\n"
     ]
    }
   ],
   "source": [
    "def is_perfect(n):\n",
    "    return n == sum(i for i in range(1, n) if n % i == 0)\n",
    "\n",
    "num = int(input(\"Enter a number: \"))\n",
    "print(\"Perfect Number\" if is_perfect(num) else \"Not a Perfect Number\")\n"
   ]
  },
  {
   "cell_type": "code",
   "execution_count": 48,
   "id": "5ab2ce8d-b3de-4445-8cfc-64979d1a29f1",
   "metadata": {},
   "outputs": [
    {
     "name": "stdin",
     "output_type": "stream",
     "text": [
      "Enter a number:  145\n"
     ]
    },
    {
     "name": "stdout",
     "output_type": "stream",
     "text": [
      "Strong Number\n"
     ]
    }
   ],
   "source": [
    "def factorial(n):\n",
    "    return 1 if n == 0 else n * factorial(n - 1)\n",
    "\n",
    "def is_strong(n):\n",
    "    return n == sum(factorial(int(digit)) for digit in str(n))\n",
    "\n",
    "num = int(input(\"Enter a number: \"))\n",
    "print(\"Strong Number\" if is_strong(num) else \"Not a Strong Number\")\n"
   ]
  },
  {
   "cell_type": "code",
   "execution_count": 50,
   "id": "22c45d4e-a65d-4200-9367-ed9fc42954e1",
   "metadata": {},
   "outputs": [
    {
     "name": "stdin",
     "output_type": "stream",
     "text": [
      "Enter a number:  345\n"
     ]
    },
    {
     "name": "stdout",
     "output_type": "stream",
     "text": [
      "Prime Factors: {3, 5, 23}\n"
     ]
    }
   ],
   "source": [
    "def prime_factors(n):\n",
    "    factors = []\n",
    "    divisor = 2\n",
    "    while n > 1:\n",
    "        if n % divisor == 0:\n",
    "            factors.append(divisor)\n",
    "            n //= divisor\n",
    "        else:\n",
    "            divisor += 1\n",
    "    return factors\n",
    "\n",
    "num = int(input(\"Enter a number: \"))\n",
    "print(\"Prime Factors:\", set(prime_factors(num)))\n"
   ]
  },
  {
   "cell_type": "code",
   "execution_count": 51,
   "id": "cc1819f8-c9b3-4af6-8e33-5422e044e260",
   "metadata": {},
   "outputs": [
    {
     "name": "stdin",
     "output_type": "stream",
     "text": [
      "Enter the number of terms:  10\n"
     ]
    },
    {
     "name": "stdout",
     "output_type": "stream",
     "text": [
      "0 1 1 2 3 5 8 13 21 34 "
     ]
    }
   ],
   "source": [
    "def fibonacci(n):\n",
    "    a, b = 0, 1\n",
    "    for _ in range(n):\n",
    "        print(a, end=\" \")\n",
    "        a, b = b, a + b\n",
    "\n",
    "n = int(input(\"Enter the number of terms: \"))\n",
    "fibonacci(n)\n"
   ]
  },
  {
   "cell_type": "code",
   "execution_count": 52,
   "id": "2e39dd1b-d8db-496c-8bcd-85f5aaca815f",
   "metadata": {},
   "outputs": [
    {
     "name": "stdin",
     "output_type": "stream",
     "text": [
      "Enter number of terms:  12\n"
     ]
    },
    {
     "name": "stdout",
     "output_type": "stream",
     "text": [
      "1 3 7 15 31 63 127 255 511 1023 2047 4095 "
     ]
    }
   ],
   "source": [
    "def generate_series(n):\n",
    "    val = 1\n",
    "    for _ in range(n):\n",
    "        print(val, end=\" \")\n",
    "        val = val * 2 + 1\n",
    "\n",
    "n = int(input(\"Enter number of terms: \"))\n",
    "generate_series(n)\n"
   ]
  },
  {
   "cell_type": "code",
   "execution_count": 54,
   "id": "35bb745c-a10e-477d-9248-bbd25d37b8cb",
   "metadata": {},
   "outputs": [
    {
     "name": "stdin",
     "output_type": "stream",
     "text": [
      "Enter number of terms:  12\n"
     ]
    },
    {
     "name": "stdout",
     "output_type": "stream",
     "text": [
      "2 3 5 7 11 13 17 19 23 29 31 37\n"
     ]
    }
   ],
   "source": [
    "def generate_prime_series(n):\n",
    "    primes, num = [], 2\n",
    "    while len(primes) < n:\n",
    "        if all(num % p != 0 for p in primes):\n",
    "            primes.append(num)\n",
    "        num += 1\n",
    "    print(*primes[:n])\n",
    "\n",
    "n = int(input(\"Enter number of terms: \"))\n",
    "generate_prime_series(n)\n"
   ]
  },
  {
   "cell_type": "code",
   "execution_count": 55,
   "id": "d5bb1d6b-cf77-40bf-b26b-a9b4a1604281",
   "metadata": {},
   "outputs": [
    {
     "name": "stdin",
     "output_type": "stream",
     "text": [
      "Enter n:  12\n"
     ]
    },
    {
     "name": "stdout",
     "output_type": "stream",
     "text": [
      "Sum of series: 364\n"
     ]
    }
   ],
   "source": [
    "def sum_series(n):\n",
    "    return sum(sum(range(1, i + 1)) for i in range(1, n + 1))\n",
    "\n",
    "n = int(input(\"Enter n: \"))\n",
    "print(\"Sum of series:\", sum_series(n))\n"
   ]
  },
  {
   "cell_type": "code",
   "execution_count": 56,
   "id": "6782fef8-5879-4af9-aa6f-e10f46bc1d47",
   "metadata": {},
   "outputs": [
    {
     "name": "stdin",
     "output_type": "stream",
     "text": [
      "Enter number of rows:  6\n"
     ]
    },
    {
     "name": "stdout",
     "output_type": "stream",
     "text": [
      "* \n",
      "* * \n",
      "* * * \n",
      "* * * * \n",
      "* * * * * \n",
      "* * * * * * \n"
     ]
    }
   ],
   "source": [
    "def star_pattern(n):\n",
    "    for i in range(1, n + 1):\n",
    "        print(\"* \" * i)\n",
    "\n",
    "n = int(input(\"Enter number of rows: \"))\n",
    "star_pattern(n)\n"
   ]
  },
  {
   "cell_type": "code",
   "execution_count": 57,
   "id": "dced8899-46cc-4fa7-b2eb-6c1407762462",
   "metadata": {},
   "outputs": [
    {
     "name": "stdin",
     "output_type": "stream",
     "text": [
      "Enter the number of rows:  7\n"
     ]
    },
    {
     "name": "stdout",
     "output_type": "stream",
     "text": [
      "      * \n",
      "     * * \n",
      "    * * * \n",
      "   * * * * \n",
      "  * * * * * \n",
      " * * * * * * \n",
      "* * * * * * * \n"
     ]
    }
   ],
   "source": [
    "def print_pyramid(n):\n",
    "    for i in range(1, n + 1):\n",
    "        # Print spaces for alignment\n",
    "        print(\" \" * (n - i), end=\"\")\n",
    "        # Print stars with a space in between\n",
    "        print(\"* \" * i)\n",
    "\n",
    "n = int(input(\"Enter the number of rows: \"))\n",
    "print_pyramid(n)\n"
   ]
  },
  {
   "cell_type": "code",
   "execution_count": 58,
   "id": "eff99019-56f3-4a73-a90e-cce240f625d6",
   "metadata": {},
   "outputs": [
    {
     "name": "stdin",
     "output_type": "stream",
     "text": [
      "Enter number of rows:  8\n"
     ]
    },
    {
     "name": "stdout",
     "output_type": "stream",
     "text": [
      "1 \n",
      "0 1 \n",
      "1 0 1 \n",
      "0 1 0 1 \n",
      "1 0 1 0 1 \n",
      "0 1 0 1 0 1 \n",
      "1 0 1 0 1 0 1 \n",
      "0 1 0 1 0 1 0 1 \n"
     ]
    }
   ],
   "source": [
    "def binary_pattern(n):\n",
    "    for i in range(1, n + 1):\n",
    "        for j in range(i):\n",
    "            print((i + j) % 2, end=\" \")\n",
    "        print()\n",
    "\n",
    "n = int(input(\"Enter number of rows: \"))\n",
    "binary_pattern(n)\n",
    "\n"
   ]
  },
  {
   "cell_type": "code",
   "execution_count": 60,
   "id": "167aa0e3-549c-47f0-b9dd-f992d4e48072",
   "metadata": {},
   "outputs": [
    {
     "name": "stdin",
     "output_type": "stream",
     "text": [
      "Enter number of rows:  7\n"
     ]
    },
    {
     "name": "stdout",
     "output_type": "stream",
     "text": [
      "A \n",
      "B A \n",
      "C B A \n",
      "D C B A \n",
      "E D C B A \n",
      "F E D C B A \n",
      "G F E D C B A \n"
     ]
    }
   ],
   "source": [
    "def alphabet_pattern(n):\n",
    "    for i in range(1, n + 1):\n",
    "        for j in range(i):\n",
    "            print(chr(64 + i - j), end=\" \")\n",
    "        print()\n",
    "\n",
    "n = int(input(\"Enter number of rows: \"))\n",
    "alphabet_pattern(n)\n"
   ]
  },
  {
   "cell_type": "code",
   "execution_count": 61,
   "id": "c68bb400-df9c-455e-ace5-72f325e9036c",
   "metadata": {},
   "outputs": [
    {
     "name": "stdin",
     "output_type": "stream",
     "text": [
      "Enter number of rows:  8\n"
     ]
    },
    {
     "name": "stdout",
     "output_type": "stream",
     "text": [
      "1\n",
      "2 1\n",
      "1 2 3\n",
      "4 3 2 1\n",
      "1 2 3 4 5\n",
      "6 5 4 3 2 1\n",
      "1 2 3 4 5 6 7\n",
      "8 7 6 5 4 3 2 1\n"
     ]
    }
   ],
   "source": [
    "def mixed_pattern(n):\n",
    "    for i in range(1, n + 1):\n",
    "        if i % 2 != 0:\n",
    "            print(*range(1, i + 1))\n",
    "        else:\n",
    "            print(*range(i, 0, -1))\n",
    "\n",
    "n = int(input(\"Enter number of rows: \"))\n",
    "mixed_pattern(n)\n"
   ]
  },
  {
   "cell_type": "code",
   "execution_count": 62,
   "id": "48d173ec-a924-4151-94c0-366d2e1f9bf3",
   "metadata": {},
   "outputs": [
    {
     "name": "stdin",
     "output_type": "stream",
     "text": [
      "Enter a number:  6\n"
     ]
    },
    {
     "name": "stdout",
     "output_type": "stream",
     "text": [
      "1 2 3 4 5 6 5 4 3 2 1 \n",
      "  1 2 3 4 5 4 3 2 1 \n",
      "    1 2 3 4 3 2 1 \n",
      "      1 2 3 2 1 \n",
      "        1 2 1 \n",
      "          1 \n"
     ]
    }
   ],
   "source": [
    "def reverse_number_pyramid(n):\n",
    "    for i in range(n, 0, -1):\n",
    "        # Print leading spaces for alignment\n",
    "        print(\" \" * (n - i) * 2, end=\"\")\n",
    "        # Print increasing numbers\n",
    "        for j in range(1, i + 1):\n",
    "            print(j, end=\" \")\n",
    "        # Print decreasing numbers\n",
    "        for j in range(i - 1, 0, -1):\n",
    "            print(j, end=\" \")\n",
    "        print()  # Move to the next line\n",
    "\n",
    "n = int(input(\"Enter a number: \"))\n",
    "reverse_number_pyramid(n)\n"
   ]
  },
  {
   "cell_type": "code",
   "execution_count": 63,
   "id": "5e755de6-c713-4ce6-a6aa-50319bc7569a",
   "metadata": {},
   "outputs": [
    {
     "name": "stdin",
     "output_type": "stream",
     "text": [
      "Enter the number of rows:  6\n"
     ]
    },
    {
     "name": "stdout",
     "output_type": "stream",
     "text": [
      "      1 \n",
      "     1 1 \n",
      "    1 2 1 \n",
      "   1 3 3 1 \n",
      "  1 4 6 4 1 \n",
      " 1 5 10 10 5 1 \n"
     ]
    }
   ],
   "source": [
    "def pascal_triangle(n):\n",
    "    for i in range(n):\n",
    "        # Print spaces for alignment\n",
    "        print(\" \" * (n - i), end=\"\")\n",
    "        # Calculate and print the numbers in the row\n",
    "        num = 1\n",
    "        for j in range(i + 1):\n",
    "            print(num, end=\" \")\n",
    "            num = num * (i - j) // (j + 1)\n",
    "        print()  # Move to the next line\n",
    "\n",
    "n = int(input(\"Enter the number of rows: \"))\n",
    "pascal_triangle(n)\n"
   ]
  },
  {
   "cell_type": "code",
   "execution_count": 67,
   "id": "3a8e9ed6-7aaa-4204-8b3a-59a8ce420143",
   "metadata": {},
   "outputs": [
    {
     "name": "stdin",
     "output_type": "stream",
     "text": [
      "Enter a string:  MONKEY\n"
     ]
    },
    {
     "name": "stdout",
     "output_type": "stream",
     "text": [
      "MONKEYYEKNOM\n",
      "MONKE  EKNOM\n",
      "MONK    KNOM\n",
      "MON      NOM\n",
      "MO        OM\n",
      "M          M\n",
      "MO        OM\n",
      "MON      NOM\n",
      "MONK    KNOM\n",
      "MONKE  EKNOM\n",
      "MONKEYYEKNOM\n"
     ]
    }
   ],
   "source": [
    "def string_pattern(s):\n",
    "    n = len(s)\n",
    "    # First half of the pattern\n",
    "    for i in range(n):\n",
    "        # Left part of the string\n",
    "        left = s[:n - i]\n",
    "        # Spaces in the middle\n",
    "        spaces = \" \" * (2 * i)\n",
    "        # Right part of the string (reverse of left)\n",
    "        right = s[n - i - 1::-1]\n",
    "        print(left + spaces + right)\n",
    "    \n",
    "    # Second half of the pattern\n",
    "    for i in range(1, n):\n",
    "        # Left part of the string\n",
    "        left = s[:i + 1]\n",
    "        # Spaces in the middle\n",
    "        spaces = \" \" * (2 * (n - i - 1))\n",
    "        # Right part of the string (reverse of left)\n",
    "        right = s[i::-1]\n",
    "        print(left + spaces + right)\n",
    "\n",
    "# Input from the user\n",
    "string = input(\"Enter a string: \")\n",
    "string_pattern(string)\n"
   ]
  },
  {
   "cell_type": "code",
   "execution_count": 68,
   "id": "8f397ab6-57e6-4d36-9101-4c147f59f46c",
   "metadata": {},
   "outputs": [
    {
     "name": "stdin",
     "output_type": "stream",
     "text": [
      "Enter a decimal number:  1234\n",
      "Enter the base:  8\n"
     ]
    },
    {
     "name": "stdout",
     "output_type": "stream",
     "text": [
      "1234 in base 8 is: 2322\n"
     ]
    }
   ],
   "source": [
    "def decimal_to_base(n, b):\n",
    "    result = \"\"\n",
    "    while n > 0:\n",
    "        result = str(n % b) + result\n",
    "        n //= b\n",
    "    return result\n",
    "\n",
    "n = int(input(\"Enter a decimal number: \"))\n",
    "b = int(input(\"Enter the base: \"))\n",
    "print(f\"{n} in base {b} is:\", decimal_to_base(n, b))\n"
   ]
  },
  {
   "cell_type": "code",
   "execution_count": 73,
   "id": "9f74f5e0-b173-452a-a684-3674948979ce",
   "metadata": {},
   "outputs": [
    {
     "name": "stdin",
     "output_type": "stream",
     "text": [
      "Enter the number:  123456\n",
      "Enter the base:  16\n"
     ]
    },
    {
     "name": "stdout",
     "output_type": "stream",
     "text": [
      "The decimal equivalent of 123456 in base 16 is: 1193046\n"
     ]
    }
   ],
   "source": [
    "def base_to_decimal(number, base):\n",
    "    return sum(int(digit) * (base ** idx) for idx, digit in enumerate(str(number)[::-1]))\n",
    "\n",
    "number = input(\"Enter the number: \")\n",
    "base = int(input(\"Enter the base: \"))\n",
    "print(f\"The decimal equivalent of {number} in base {base} is:\", base_to_decimal(number, base))\n"
   ]
  },
  {
   "cell_type": "code",
   "execution_count": 74,
   "id": "720b20fa-dbe8-4414-8c4e-b72b2ad1559a",
   "metadata": {},
   "outputs": [
    {
     "name": "stdin",
     "output_type": "stream",
     "text": [
      "Enter a binary number:  1101101101111111\n"
     ]
    },
    {
     "name": "stdout",
     "output_type": "stream",
     "text": [
      "Octal: 155577\n",
      "Hexadecimal: DB7F\n"
     ]
    }
   ],
   "source": [
    "def binary_to_octal_hex(binary):\n",
    "    decimal = int(binary, 2)\n",
    "    octal = oct(decimal)[2:]\n",
    "    hexadecimal = hex(decimal)[2:].upper()\n",
    "    return octal, hexadecimal\n",
    "\n",
    "binary = input(\"Enter a binary number: \")\n",
    "octal, hexadecimal = binary_to_octal_hex(binary)\n",
    "print(f\"Octal: {octal}\")\n",
    "print(f\"Hexadecimal: {hexadecimal}\")\n"
   ]
  },
  {
   "cell_type": "code",
   "execution_count": null,
   "id": "9bde30d5-7ecf-4e6f-925d-e19e6a27d530",
   "metadata": {},
   "outputs": [],
   "source": []
  }
 ],
 "metadata": {
  "kernelspec": {
   "display_name": "Python 3 (ipykernel)",
   "language": "python",
   "name": "python3"
  },
  "language_info": {
   "codemirror_mode": {
    "name": "ipython",
    "version": 3
   },
   "file_extension": ".py",
   "mimetype": "text/x-python",
   "name": "python",
   "nbconvert_exporter": "python",
   "pygments_lexer": "ipython3",
   "version": "3.12.7"
  }
 },
 "nbformat": 4,
 "nbformat_minor": 5
}
