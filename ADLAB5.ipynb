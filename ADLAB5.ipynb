{
 "cells": [
  {
   "cell_type": "code",
   "execution_count": 3,
   "id": "ac5f162b-91c7-421c-97d5-a2d667f18bf2",
   "metadata": {},
   "outputs": [
    {
     "name": "stdout",
     "output_type": "stream",
     "text": [
      "[0. 0. 0. 0. 0. 0. 1. 1. 1. 1. 1. 1. 1. 1. 1. 0. 0. 0. 0. 0. 0. 0. 0. 0.\n",
      " 0.]\n"
     ]
    }
   ],
   "source": [
    "import numpy as np\n",
    "\n",
    "vec = np.zeros(25)\n",
    "vec[6:15] = 1\n",
    "print(vec)\n"
   ]
  },
  {
   "cell_type": "code",
   "execution_count": 14,
   "id": "61bd10b0-7e50-47e6-8e34-60d9bb137593",
   "metadata": {},
   "outputs": [
    {
     "name": "stdout",
     "output_type": "stream",
     "text": [
      "[29 24 19 14  9  4]\n"
     ]
    }
   ],
   "source": [
    "vec = np.arange(5, 20)\n",
    "vec_reversed = vec[::-5]\n",
    "print(vec_reversed)\n"
   ]
  },
  {
   "cell_type": "code",
   "execution_count": 18,
   "id": "fa77cb2e-8396-4ebb-bc4f-14513eb06bcd",
   "metadata": {},
   "outputs": [
    {
     "name": "stdout",
     "output_type": "stream",
     "text": [
      "[0.16988637 0.73996897 0.83914806 0.80438048 0.00826455]\n"
     ]
    }
   ],
   "source": [
    "vec = np.random.rand(5)\n",
    "half = len(vec) // 2\n",
    "vec[:half] = np.sort(vec[:half])\n",
    "vec[half:] = np.sort(vec[half:])[::-1]\n",
    "print(vec)\n"
   ]
  },
  {
   "cell_type": "code",
   "execution_count": 19,
   "id": "ac073abd-d712-4803-a0f2-53b3cf400a09",
   "metadata": {},
   "outputs": [
    {
     "name": "stdout",
     "output_type": "stream",
     "text": [
      "[1.25895462 0.20843987 1.16782771 1.06558652 0.99992793]\n"
     ]
    }
   ],
   "source": [
    "vec = np.random.uniform(0, 2, 5)\n",
    "print(vec)\n"
   ]
  },
  {
   "cell_type": "code",
   "execution_count": 20,
   "id": "2b4bb5e6-6085-474f-abc6-cfe3a3483e36",
   "metadata": {},
   "outputs": [
    {
     "name": "stdout",
     "output_type": "stream",
     "text": [
      "['aV' 'bU' 'cW']\n"
     ]
    }
   ],
   "source": [
    "arr1 = np.array([\"a\", \"b\", \"c\"])\n",
    "arr2 = np.array([\"V\", \"U\", \"W\"])\n",
    "concatenated = np.core.defchararray.add(arr1, arr2)\n",
    "print(concatenated)\n"
   ]
  },
  {
   "cell_type": "code",
   "execution_count": 31,
   "id": "5640b8e4-bf40-488c-958f-031146f79472",
   "metadata": {},
   "outputs": [
    {
     "name": "stdout",
     "output_type": "stream",
     "text": [
      "Min: 0.009207735377429804, Max: 0.9439492596709396\n"
     ]
    }
   ],
   "source": [
    "arr = np.random.rand(5, 6)\n",
    "min_val = arr.min()\n",
    "max_val = arr.max()\n",
    "print(f\"Min: {min_val}, Max: {max_val}\")\n"
   ]
  },
  {
   "cell_type": "code",
   "execution_count": 30,
   "id": "bef653ee-4943-4e9b-a80e-58c013ce8dc6",
   "metadata": {},
   "outputs": [
    {
     "name": "stdout",
     "output_type": "stream",
     "text": [
      "[[1. 1. 1. 1. 1.]\n",
      " [1. 5. 5. 5. 1.]\n",
      " [1. 5. 5. 5. 1.]\n",
      " [1. 5. 5. 5. 1.]\n",
      " [1. 5. 5. 5. 1.]\n",
      " [1. 5. 5. 5. 1.]\n",
      " [1. 1. 1. 1. 1.]]\n"
     ]
    }
   ],
   "source": [
    "arr = np.ones((7, 5))\n",
    "arr[1:-1, 1:-1] = 5\n",
    "print(arr)\n"
   ]
  },
  {
   "cell_type": "code",
   "execution_count": 29,
   "id": "4f5b5b78-f325-40d3-83c1-8a384f5ee037",
   "metadata": {},
   "outputs": [
    {
     "name": "stdout",
     "output_type": "stream",
     "text": [
      "[[0. 1. 0. 0. 0.]\n",
      " [1. 0. 2. 0. 0.]\n",
      " [0. 2. 0. 3. 0.]\n",
      " [0. 0. 3. 0. 1.]]\n"
     ]
    }
   ],
   "source": [
    "arr = np.zeros((4, 5))\n",
    "np.fill_diagonal(arr[1:], [1, 2, 3])\n",
    "np.fill_diagonal(arr[:, 1:], [1, 2, 3])\n",
    "print(arr)\n"
   ]
  },
  {
   "cell_type": "code",
   "execution_count": 28,
   "id": "af1e3355-f5e3-495c-bff6-26a5e706d230",
   "metadata": {},
   "outputs": [
    {
     "name": "stdout",
     "output_type": "stream",
     "text": [
      "[[0.92478748 0.12050913 0.17471672]]\n",
      "[[0.12050913 0.17471672 0.14311749]]\n",
      "[[0.17471672 0.14311749 0.5428272 ]]\n",
      "[[0.14311749 0.5428272  0.54338285]]\n",
      "[[0.5428272  0.54338285]]\n",
      "[[0.54338285]]\n",
      "[]\n",
      "[]\n",
      "[]\n",
      "[]\n",
      "[]\n",
      "[]\n",
      "[]\n",
      "[]\n",
      "[]\n",
      "[]\n",
      "[]\n",
      "[]\n",
      "[]\n",
      "[]\n",
      "[]\n",
      "[]\n",
      "[]\n",
      "[]\n",
      "[]\n",
      "[]\n",
      "[]\n",
      "[]\n",
      "[]\n",
      "[]\n",
      "[]\n",
      "[]\n",
      "[]\n",
      "[]\n",
      "[]\n",
      "[]\n",
      "[]\n",
      "[]\n",
      "[]\n",
      "[]\n",
      "[]\n",
      "[]\n",
      "[]\n",
      "[]\n",
      "[]\n",
      "[]\n",
      "[]\n",
      "[]\n",
      "[]\n",
      "[]\n",
      "[]\n",
      "[]\n",
      "[]\n",
      "[]\n",
      "[]\n",
      "[]\n",
      "[]\n",
      "[]\n",
      "[]\n",
      "[]\n",
      "[]\n",
      "[]\n",
      "[]\n",
      "[]\n"
     ]
    }
   ],
   "source": [
    "matrix = np.random.rand(1, 6)\n",
    "blocks = [matrix[i:i+3, j:j+3] for i in range(8) for j in range(8)]\n",
    "for block in blocks:\n",
    "    print(block)\n"
   ]
  },
  {
   "cell_type": "code",
   "execution_count": 21,
   "id": "9a9c37c0-a574-403d-82b8-1dc59249589b",
   "metadata": {},
   "outputs": [
    {
     "name": "stdout",
     "output_type": "stream",
     "text": [
      "Row sums: [ 65  61 101  75  54]\n",
      "Column sums: [101  65  51  74  65]\n",
      "Main diagonal sum: 55\n",
      "Secondary diagonal sum: 55\n",
      "This is not a magic square.\n"
     ]
    }
   ],
   "source": [
    "A = np.array([[17, 24, 1, 8, 15],\n",
    "              [23, 5, 3, 14, 16],\n",
    "              [40, 6, 13, 20, 22],\n",
    "              [20, 12, 29, 11, 3],\n",
    "              [1, 18, 5, 21, 9]])\n",
    "\n",
    "# Row sums\n",
    "row_sums = A.sum(axis=1)\n",
    "# Column sums\n",
    "col_sums = A.sum(axis=0)\n",
    "# Diagonal sums\n",
    "main_diag_sum = np.diag(A).sum()\n",
    "sec_diag_sum = np.fliplr(A).diagonal().sum()\n",
    "\n",
    "print(f\"Row sums: {row_sums}\")\n",
    "print(f\"Column sums: {col_sums}\")\n",
    "print(f\"Main diagonal sum: {main_diag_sum}\")\n",
    "print(f\"Secondary diagonal sum: {sec_diag_sum}\")\n",
    "\n",
    "# Check if all sums are equal\n",
    "sums = np.concatenate((row_sums, col_sums, [main_diag_sum, sec_diag_sum]))\n",
    "if np.max(sums) == np.min(sums):\n",
    "    print(\"This is a magic square!\")\n",
    "else:\n",
    "    print(\"This is not a magic square.\")\n"
   ]
  },
  {
   "cell_type": "code",
   "execution_count": null,
   "id": "a5fcb003-a957-4670-b597-ba8a06f479b8",
   "metadata": {},
   "outputs": [],
   "source": []
  }
 ],
 "metadata": {
  "kernelspec": {
   "display_name": "Python 3 (ipykernel)",
   "language": "python",
   "name": "python3"
  },
  "language_info": {
   "codemirror_mode": {
    "name": "ipython",
    "version": 3
   },
   "file_extension": ".py",
   "mimetype": "text/x-python",
   "name": "python",
   "nbconvert_exporter": "python",
   "pygments_lexer": "ipython3",
   "version": "3.12.7"
  }
 },
 "nbformat": 4,
 "nbformat_minor": 5
}
