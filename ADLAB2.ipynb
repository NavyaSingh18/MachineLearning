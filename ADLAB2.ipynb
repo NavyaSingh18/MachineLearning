{
 "cells": [
  {
   "cell_type": "code",
   "execution_count": 21,
   "id": "9fd20ac6-487a-4017-b003-5c7ff0dc9b90",
   "metadata": {},
   "outputs": [
    {
     "name": "stdin",
     "output_type": "stream",
     "text": [
      "Enter a number -344\n"
     ]
    },
    {
     "name": "stdout",
     "output_type": "stream",
     "text": [
      "Negative number\n"
     ]
    }
   ],
   "source": [
    "n = int(input('Enter a number'))\n",
    "if(n>0):\n",
    "    print('Positive number')\n",
    "\n",
    "else:\n",
    "    print('Negative number')"
   ]
  },
  {
   "cell_type": "code",
   "execution_count": 23,
   "id": "edf6d227-583a-4e61-a666-3f2dd97abfac",
   "metadata": {},
   "outputs": [
    {
     "name": "stdin",
     "output_type": "stream",
     "text": [
      "Enter a number -45\n"
     ]
    },
    {
     "name": "stdout",
     "output_type": "stream",
     "text": [
      "Number not positive\n"
     ]
    }
   ],
   "source": [
    "n= int(input('Enter a number'))\n",
    "if(n>0):\n",
    "    print('Number is positive')\n",
    "else:\n",
    "    print('Number not positive')"
   ]
  },
  {
   "cell_type": "code",
   "execution_count": 24,
   "id": "82dfe53f-3d0f-4560-aff3-0a04ec5de6b9",
   "metadata": {},
   "outputs": [
    {
     "name": "stdin",
     "output_type": "stream",
     "text": [
      "Enter a year 2023\n"
     ]
    },
    {
     "name": "stdout",
     "output_type": "stream",
     "text": [
      "2023 is not a Leap year\n"
     ]
    }
   ],
   "source": [
    "year = int(input('Enter a year'))\n",
    "if( year%4 ==0)and( year%100 != 0):\n",
    "    print(f'{year} is a Leap Year')\n",
    "\n",
    "else:\n",
    "    print(f'{year} is not a Leap year')"
   ]
  },
  {
   "cell_type": "code",
   "execution_count": 25,
   "id": "12f680a2-caae-4e9f-ae95-0641f0a06593",
   "metadata": {},
   "outputs": [
    {
     "name": "stdin",
     "output_type": "stream",
     "text": [
      "Enter 1st number 245\n",
      "Enter 2nd number 654\n"
     ]
    },
    {
     "name": "stdout",
     "output_type": "stream",
     "text": [
      "654\n"
     ]
    }
   ],
   "source": [
    "n1 = int(input('Enter 1st number'))\n",
    "n2 = int(input('Enter 2nd number'))\n",
    "print(max(n1,n2))"
   ]
  },
  {
   "cell_type": "code",
   "execution_count": 26,
   "id": "bfbb0dbb-2b84-4085-a432-5c5752d9804b",
   "metadata": {},
   "outputs": [
    {
     "name": "stdin",
     "output_type": "stream",
     "text": [
      "Enter a three digit number 434\n"
     ]
    },
    {
     "name": "stdout",
     "output_type": "stream",
     "text": [
      "The number 434 is palindrome\n"
     ]
    }
   ],
   "source": [
    "num = int(input('Enter a three digit number'))\n",
    "temp = num\n",
    "reverse = 0\n",
    "while temp>0:\n",
    "    remain = temp%10\n",
    "    reverse = reverse*10 + remain\n",
    "    temp = temp //10\n",
    "\n",
    "if (num == reverse):\n",
    "    print(f'The number {num} is palindrome')\n",
    "\n",
    "else:\n",
    "    print(f'The number {num} is not palindrome')"
   ]
  },
  {
   "cell_type": "code",
   "execution_count": 28,
   "id": "b9c26965-a366-429f-969a-901fb5e7587e",
   "metadata": {},
   "outputs": [
    {
     "name": "stdin",
     "output_type": "stream",
     "text": [
      "Enter the marks: 34\n",
      "Enter the marks: 45\n",
      "Enter the marks: 56\n"
     ]
    },
    {
     "name": "stdout",
     "output_type": "stream",
     "text": [
      "Total Marks:135\n",
      "Average Marks: 45.0\n",
      "GRADE: D\n"
     ]
    }
   ],
   "source": [
    "Eng = int(input('Enter the marks:'))\n",
    "Math = int(input('Enter the marks:'))\n",
    "Cse = int(input('Enter the marks:'))\n",
    "totalMarks = Eng+Math+Cse\n",
    "avgmarks = totalMarks /3\n",
    "print(f'Total Marks:{totalMarks}')\n",
    "print(f'Average Marks: {avgmarks}')\n",
    "if( avgmarks>=90):\n",
    "    print('GRADE: O')\n",
    "\n",
    "elif(avgmarks <90) and (avgmarks>=80):\n",
    "    print('GRADE: A')\n",
    "\n",
    "elif(avgmarks<80) and (avgmarks >=70):\n",
    "    print('GRADE: B')\n",
    "\n",
    "elif(avgmarks <70) and (avgmarks >=60):\n",
    "    print('GRADE: C')\n",
    "\n",
    "else:\n",
    "    print('GRADE: D')"
   ]
  },
  {
   "cell_type": "code",
   "execution_count": 29,
   "id": "7cbddcc2-9944-483f-aeeb-af0b2b6c210b",
   "metadata": {},
   "outputs": [
    {
     "name": "stdout",
     "output_type": "stream",
     "text": [
      "\n",
      "Menu:\n",
      "1. Area of Circle\n",
      "2. Area of Rectangle\n",
      "3. Area of Triangle\n",
      "4. Exit\n"
     ]
    },
    {
     "name": "stdin",
     "output_type": "stream",
     "text": [
      "Enter your choice (1-4):  3\n",
      "Enter the base of the triangle:  45\n",
      "Enter the height of the triangle:  34\n"
     ]
    },
    {
     "name": "stdout",
     "output_type": "stream",
     "text": [
      "The area of the triangle is: 765.00\n",
      "\n",
      "Menu:\n",
      "1. Area of Circle\n",
      "2. Area of Rectangle\n",
      "3. Area of Triangle\n",
      "4. Exit\n"
     ]
    },
    {
     "name": "stdin",
     "output_type": "stream",
     "text": [
      "Enter your choice (1-4):  2\n",
      "Enter the length of the rectangle:  12\n",
      "Enter the breadth of the rectangle:  6\n"
     ]
    },
    {
     "name": "stdout",
     "output_type": "stream",
     "text": [
      "The area of the rectangle is: 72.00\n",
      "\n",
      "Menu:\n",
      "1. Area of Circle\n",
      "2. Area of Rectangle\n",
      "3. Area of Triangle\n",
      "4. Exit\n"
     ]
    },
    {
     "name": "stdin",
     "output_type": "stream",
     "text": [
      "Enter your choice (1-4):  4\n"
     ]
    },
    {
     "name": "stdout",
     "output_type": "stream",
     "text": [
      "Exiting the program. Goodbye!\n"
     ]
    }
   ],
   "source": [
    "import math\n",
    "\n",
    "def area_of_circle():\n",
    "    radius = float(input(\"Enter the radius of the circle: \"))\n",
    "    area = math.pi * radius ** 2\n",
    "    print(f\"The area of the circle is: {area:.2f}\")\n",
    "\n",
    "def area_of_rectangle():\n",
    "    length = float(input(\"Enter the length of the rectangle: \"))\n",
    "    breadth = float(input(\"Enter the breadth of the rectangle: \"))\n",
    "    area = length * breadth\n",
    "    print(f\"The area of the rectangle is: {area:.2f}\")\n",
    "\n",
    "def area_of_triangle():\n",
    "    base = float(input(\"Enter the base of the triangle: \"))\n",
    "    height = float(input(\"Enter the height of the triangle: \"))\n",
    "    area = 0.5 * base * height\n",
    "    print(f\"The area of the triangle is: {area:.2f}\")\n",
    "\n",
    "def main():\n",
    "    while True:\n",
    "        print(\"\\nMenu:\")\n",
    "        print(\"1. Area of Circle\")\n",
    "        print(\"2. Area of Rectangle\")\n",
    "        print(\"3. Area of Triangle\")\n",
    "        print(\"4. Exit\")\n",
    "\n",
    "        try:\n",
    "            choice = int(input(\"Enter your choice (1-4): \"))\n",
    "            match choice:\n",
    "                case 1:\n",
    "                    area_of_circle()\n",
    "                case 2:\n",
    "                    area_of_rectangle()\n",
    "                case 3:\n",
    "                    area_of_triangle()\n",
    "                case 4:\n",
    "                    print(\"Exiting the program. Goodbye!\")\n",
    "                    break\n",
    "                case _:\n",
    "                    print(\"Invalid choice! Please select a valid option.\")\n",
    "        except ValueError:\n",
    "            print(\"Invalid input! Please enter a number.\")\n",
    "\n",
    "if __name__ == \"__main__\":\n",
    "    main()\n",
    "\n"
   ]
  },
  {
   "cell_type": "code",
   "execution_count": 36,
   "id": "3e622bbc-49b0-43f8-b75d-4ea473be414d",
   "metadata": {},
   "outputs": [
    {
     "name": "stdout",
     "output_type": "stream",
     "text": [
      "\n",
      "Menu\n",
      " 1. red\n",
      " 2. blue\n",
      " 3. green\n",
      " 4. exit\n"
     ]
    },
    {
     "name": "stdin",
     "output_type": "stream",
     "text": [
      "Enter your choice(1-4) 1\n"
     ]
    },
    {
     "name": "stdout",
     "output_type": "stream",
     "text": [
      "RED\n",
      "\n",
      "Menu\n",
      " 1. red\n",
      " 2. blue\n",
      " 3. green\n",
      " 4. exit\n"
     ]
    },
    {
     "name": "stdin",
     "output_type": "stream",
     "text": [
      "Enter your choice(1-4) 2\n"
     ]
    },
    {
     "name": "stdout",
     "output_type": "stream",
     "text": [
      "BLUE\n",
      "\n",
      "Menu\n",
      " 1. red\n",
      " 2. blue\n",
      " 3. green\n",
      " 4. exit\n"
     ]
    },
    {
     "name": "stdin",
     "output_type": "stream",
     "text": [
      "Enter your choice(1-4) 3\n"
     ]
    },
    {
     "name": "stdout",
     "output_type": "stream",
     "text": [
      "GREEN\n",
      "\n",
      "Menu\n",
      " 1. red\n",
      " 2. blue\n",
      " 3. green\n",
      " 4. exit\n"
     ]
    },
    {
     "name": "stdin",
     "output_type": "stream",
     "text": [
      "Enter your choice(1-4) 5\n"
     ]
    },
    {
     "name": "stdout",
     "output_type": "stream",
     "text": [
      "Invalid choice! Please select a valid option.\n",
      "\n",
      "Menu\n",
      " 1. red\n",
      " 2. blue\n",
      " 3. green\n",
      " 4. exit\n"
     ]
    },
    {
     "name": "stdin",
     "output_type": "stream",
     "text": [
      "Enter your choice(1-4) 4\n"
     ]
    },
    {
     "name": "stdout",
     "output_type": "stream",
     "text": [
      "EXITING THE PROGRAM\n"
     ]
    }
   ],
   "source": [
    "import math\n",
    "def main():\n",
    "    while True:\n",
    "        print('\\nMenu')\n",
    "        print(' 1. red')\n",
    "        print(' 2. blue')\n",
    "        print(' 3. green')\n",
    "        print(' 4. exit')\n",
    "\n",
    "        try:\n",
    "            choice = int(input(\"Enter your choice(1-4)\"))\n",
    "            match choice:\n",
    "                  case 1: \n",
    "                      print(\"RED\")\n",
    "                  case 2:\n",
    "                      print(\"BLUE\")\n",
    "                  case 3:\n",
    "                      print(\"GREEN\")\n",
    "                  case 4:\n",
    "                      print(\"EXITING THE PROGRAM\")\n",
    "                      break\n",
    "                  case _:\n",
    "                    print(\"Invalid choice! Please select a valid option.\")\n",
    "        except ValueError:\n",
    "            print(\"Invalid input! Please enter a number.\")\n",
    "\n",
    "if __name__ == \"__main__\":\n",
    "    main()"
   ]
  },
  {
   "cell_type": "code",
   "execution_count": 30,
   "id": "1562ed94-a890-4384-8491-756c5d5e8186",
   "metadata": {},
   "outputs": [
    {
     "name": "stdin",
     "output_type": "stream",
     "text": [
      "enter a number 5\n"
     ]
    },
    {
     "name": "stdout",
     "output_type": "stream",
     "text": [
      "1\n",
      "4\n",
      "9\n",
      "16\n"
     ]
    }
   ],
   "source": [
    "n = int ( input(\"enter a number\"))\n",
    "i = 1\n",
    "while (i<n):\n",
    "    print(i*i)\n",
    "    i= i+1"
   ]
  },
  {
   "cell_type": "code",
   "execution_count": 31,
   "id": "7faa2a07-cd73-490f-a7ef-6e8038526a18",
   "metadata": {},
   "outputs": [
    {
     "name": "stdin",
     "output_type": "stream",
     "text": [
      "ENTER THE NUMBER WHOSE FACTORIAL IS TO BE CALCULATED 12\n"
     ]
    },
    {
     "name": "stdout",
     "output_type": "stream",
     "text": [
      "The factoria of 12 is : 479001600\n"
     ]
    }
   ],
   "source": [
    "num = int(input('ENTER THE NUMBER WHOSE FACTORIAL IS TO BE CALCULATED'))\n",
    "factorial =1\n",
    "for i in range( 1, num+1):\n",
    "    factorial = factorial* i\n",
    "\n",
    "print (f'The factoria of {num} is : {factorial}')\n",
    "    \n",
    "    \n"
   ]
  },
  {
   "cell_type": "code",
   "execution_count": 32,
   "id": "6a52de40-0588-4dcb-bae4-14e4fc2084bb",
   "metadata": {},
   "outputs": [
    {
     "name": "stdin",
     "output_type": "stream",
     "text": [
      "Enter a number 12\n"
     ]
    },
    {
     "name": "stdout",
     "output_type": "stream",
     "text": [
      "Fibonacci series with 12 elements:[0, 1, 1, 2, 3, 5, 8, 13, 21, 34, 55, 89]\n"
     ]
    }
   ],
   "source": [
    "def fibonacci_with_list(n):\n",
    "    fib_series = [0, 1]\n",
    "    for i in range(2, n):\n",
    "        fib_series.append(fib_series[-1] + fib_series[-2])\n",
    "    return fib_series\n",
    "n = int(input('Enter a number'))\n",
    "result = fibonacci_with_list(n)\n",
    "print(f'Fibonacci series with {n} elements:{result}')"
   ]
  },
  {
   "cell_type": "code",
   "execution_count": 33,
   "id": "108eeca5-26e8-488f-b3f2-7f9ad559cc68",
   "metadata": {},
   "outputs": [
    {
     "name": "stdin",
     "output_type": "stream",
     "text": [
      "Enter a number:  13\n"
     ]
    },
    {
     "name": "stdout",
     "output_type": "stream",
     "text": [
      "Prime\n"
     ]
    }
   ],
   "source": [
    "def is_prime(n):\n",
    "    if n < 2:\n",
    "        return False\n",
    "    for i in range(2, int(n**0.5) + 1):\n",
    "        if n % i == 0:\n",
    "            return False\n",
    "    return True\n",
    "\n",
    "num = int(input(\"Enter a number: \"))\n",
    "print(\"Prime\" if is_prime(num) else \"Not Prime\")\n"
   ]
  },
  {
   "cell_type": "code",
   "execution_count": 34,
   "id": "2e26db11-c17a-4884-9eaa-f4502673c135",
   "metadata": {},
   "outputs": [
    {
     "name": "stdin",
     "output_type": "stream",
     "text": [
      "Enter a number:  28\n"
     ]
    },
    {
     "name": "stdout",
     "output_type": "stream",
     "text": [
      "Perfect Number\n"
     ]
    }
   ],
   "source": [
    "def is_perfect(n):\n",
    "    return n == sum(i for i in range(1, n) if n % i == 0)\n",
    "\n",
    "num = int(input(\"Enter a number: \"))\n",
    "print(\"Perfect Number\" if is_perfect(num) else \"Not a Perfect Number\")\n"
   ]
  },
  {
   "cell_type": "code",
   "execution_count": 35,
   "id": "0797224d-4d54-4cf3-9d1b-68f8fe8f3edd",
   "metadata": {},
   "outputs": [
    {
     "name": "stdin",
     "output_type": "stream",
     "text": [
      "Enter a number:  122411\n"
     ]
    },
    {
     "name": "stdout",
     "output_type": "stream",
     "text": [
      "Reversed Number: 114221\n"
     ]
    }
   ],
   "source": [
    "def reverse_number(n):\n",
    "    return int(str(n)[::-1])\n",
    "\n",
    "num = int(input(\"Enter a number: \"))\n",
    "print(\"Reversed Number:\", reverse_number(num))\n"
   ]
  },
  {
   "cell_type": "code",
   "execution_count": 36,
   "id": "6ae7b3f7-50bf-40cf-9169-04c753e3f7e2",
   "metadata": {},
   "outputs": [
    {
     "name": "stdin",
     "output_type": "stream",
     "text": [
      "Enter a number:  153\n"
     ]
    },
    {
     "name": "stdout",
     "output_type": "stream",
     "text": [
      "Armstrong Number\n"
     ]
    }
   ],
   "source": [
    "def is_armstrong(n):\n",
    "    return n == sum(int(digit)**3 for digit in str(n))\n",
    "\n",
    "num = int(input(\"Enter a number: \"))\n",
    "print(\"Armstrong Number\" if is_armstrong(num) else \"Not an Armstrong Number\")\n"
   ]
  },
  {
   "cell_type": "code",
   "execution_count": 37,
   "id": "aee45741-0bd6-4637-9a69-e15df32cc7f6",
   "metadata": {},
   "outputs": [
    {
     "name": "stdin",
     "output_type": "stream",
     "text": [
      "Enter number of rows:  5\n"
     ]
    },
    {
     "name": "stdout",
     "output_type": "stream",
     "text": [
      "1\n",
      "2 1\n",
      "1 2 3\n",
      "4 3 2 1\n",
      "1 2 3 4 5\n"
     ]
    }
   ],
   "source": [
    "def print_pattern(n):\n",
    "    for i in range(1, n + 1):\n",
    "        if i % 2 == 1:\n",
    "            print(*range(1, i + 1))\n",
    "        else:\n",
    "            print(*range(i, 0, -1))\n",
    "\n",
    "rows = int(input(\"Enter number of rows: \"))\n",
    "print_pattern(rows)\n"
   ]
  },
  {
   "cell_type": "code",
   "execution_count": 38,
   "id": "63710c68-cc0d-4684-801e-1511166a8310",
   "metadata": {},
   "outputs": [
    {
     "name": "stdin",
     "output_type": "stream",
     "text": [
      "Enter three numbers:  24 64 84\n"
     ]
    },
    {
     "name": "stdout",
     "output_type": "stream",
     "text": [
      "Average: 57.333333333333336\n"
     ]
    }
   ],
   "source": [
    "def average(a, b, c):\n",
    "    return (a + b + c) / 3\n",
    "\n",
    "a, b, c = map(int, input(\"Enter three numbers: \").split())\n",
    "print(\"Average:\", average(a, b, c))\n"
   ]
  },
  {
   "cell_type": "code",
   "execution_count": 40,
   "id": "47d776a8-aaf6-4654-aa5c-3c6c03b8024e",
   "metadata": {},
   "outputs": [
    {
     "name": "stdin",
     "output_type": "stream",
     "text": [
      "Enter a number:  9\n"
     ]
    },
    {
     "name": "stdout",
     "output_type": "stream",
     "text": [
      "Factorial: 362880\n"
     ]
    }
   ],
   "source": [
    "def factorial(n):\n",
    "    return 1 if n == 0 else n * factorial(n - 1)\n",
    "\n",
    "num = int(input(\"Enter a number: \"))\n",
    "print(\"Factorial:\", factorial(num))\n"
   ]
  },
  {
   "cell_type": "code",
   "execution_count": 41,
   "id": "f887ab37-103d-434b-8d17-4953bd3ac68c",
   "metadata": {},
   "outputs": [
    {
     "name": "stdin",
     "output_type": "stream",
     "text": [
      "Enter two numbers:  34 54\n"
     ]
    },
    {
     "name": "stdout",
     "output_type": "stream",
     "text": [
      "HCF: 2\n",
      "LCM: 918\n"
     ]
    }
   ],
   "source": [
    "from math import gcd\n",
    "\n",
    "def hcf_lcm(a, b):\n",
    "    hcf = gcd(a, b)\n",
    "    lcm = (a * b) // hcf\n",
    "    return hcf, lcm\n",
    "\n",
    "a, b = map(int, input(\"Enter two numbers: \").split())\n",
    "hcf, lcm = hcf_lcm(a, b)\n",
    "print(\"HCF:\", hcf)\n",
    "print(\"LCM:\", lcm)\n"
   ]
  },
  {
   "cell_type": "code",
   "execution_count": 42,
   "id": "33fcde12-d4b3-4194-992c-d54a180ed46b",
   "metadata": {},
   "outputs": [
    {
     "name": "stdin",
     "output_type": "stream",
     "text": [
      "Enter a number:  34\n"
     ]
    },
    {
     "name": "stdout",
     "output_type": "stream",
     "text": [
      "Sum of series: 595\n"
     ]
    }
   ],
   "source": [
    "def sum_series(n):\n",
    "    return n + sum_series(n - 1) if n > 0 else 0\n",
    "\n",
    "num = int(input(\"Enter a number: \"))\n",
    "print(\"Sum of series:\", sum_series(num))\n"
   ]
  },
  {
   "cell_type": "code",
   "execution_count": 43,
   "id": "8609af6d-06bc-4f65-8e20-b904301f76a1",
   "metadata": {},
   "outputs": [
    {
     "name": "stdin",
     "output_type": "stream",
     "text": [
      "Enter a number:  12314\n"
     ]
    },
    {
     "name": "stdout",
     "output_type": "stream",
     "text": [
      "Reversed Number: 41321\n"
     ]
    }
   ],
   "source": [
    "def reverse_number(n, rev=0):\n",
    "    return reverse_number(n // 10, rev * 10 + n % 10) if n > 0 else rev\n",
    "\n",
    "num = int(input(\"Enter a number: \"))\n",
    "print(\"Reversed Number:\", reverse_number(num))\n"
   ]
  },
  {
   "cell_type": "code",
   "execution_count": 44,
   "id": "5136e582-90bc-48c4-896b-11c4b399c32e",
   "metadata": {},
   "outputs": [
    {
     "name": "stdin",
     "output_type": "stream",
     "text": [
      "Enter principal:  12900\n",
      "Enter time:  5\n"
     ]
    },
    {
     "name": "stdout",
     "output_type": "stream",
     "text": [
      "Simple Interest: 3225.0\n"
     ]
    }
   ],
   "source": [
    "def simple_interest(p, t, r=5):\n",
    "    return (p * t * r) / 100\n",
    "\n",
    "p = float(input(\"Enter principal: \"))\n",
    "t = float(input(\"Enter time: \"))\n",
    "print(\"Simple Interest:\", simple_interest(p, t))\n"
   ]
  },
  {
   "cell_type": "code",
   "execution_count": 45,
   "id": "16e69d02-d545-48f8-8fa9-7d74799396f7",
   "metadata": {},
   "outputs": [
    {
     "name": "stdin",
     "output_type": "stream",
     "text": [
      "Enter a decimal number:  1300\n"
     ]
    },
    {
     "name": "stdout",
     "output_type": "stream",
     "text": [
      "Binary: 10100010100\n"
     ]
    }
   ],
   "source": [
    "def decimal_to_binary(n):\n",
    "    return \"\" if n == 0 else decimal_to_binary(n // 2) + str(n % 2)\n",
    "\n",
    "num = int(input(\"Enter a decimal number: \"))\n",
    "print(\"Binary:\", decimal_to_binary(num) or \"0\")\n"
   ]
  },
  {
   "cell_type": "code",
   "execution_count": 46,
   "id": "2b415e1e-a6d0-45a8-805d-cc5a14015c88",
   "metadata": {},
   "outputs": [
    {
     "name": "stdin",
     "output_type": "stream",
     "text": [
      "Enter a number:  24\n"
     ]
    },
    {
     "name": "stdout",
     "output_type": "stream",
     "text": [
      "Factorial: 620448401733239439360000\n"
     ]
    }
   ],
   "source": [
    "def factorial(n):\n",
    "    return 1 if n == 0 else n * factorial(n - 1)\n",
    "\n",
    "num = int(input(\"Enter a number: \"))\n",
    "print(\"Factorial:\", factorial(num))\n"
   ]
  },
  {
   "cell_type": "code",
   "execution_count": 47,
   "id": "54ebe0be-8165-4688-b1f6-411e723db39b",
   "metadata": {},
   "outputs": [
    {
     "name": "stdin",
     "output_type": "stream",
     "text": [
      "Enter a number:  12\n"
     ]
    },
    {
     "name": "stdout",
     "output_type": "stream",
     "text": [
      "Sum of squares: 650\n"
     ]
    }
   ],
   "source": [
    "def sum_of_squares(n):\n",
    "    return n**2 + sum_of_squares(n - 1) if n > 0 else 0\n",
    "\n",
    "num = int(input(\"Enter a number: \"))\n",
    "print(\"Sum of squares:\", sum_of_squares(num))\n"
   ]
  },
  {
   "cell_type": "code",
   "execution_count": 20,
   "id": "f9d2eb82-527c-44b0-9400-3c386eafefa1",
   "metadata": {},
   "outputs": [
    {
     "name": "stdin",
     "output_type": "stream",
     "text": [
      "Enter 5 numbers:  11 12 13 14 15\n"
     ]
    },
    {
     "name": "stdout",
     "output_type": "stream",
     "text": [
      "Sum: 65.0, Average: 13.0, Standard Deviation: 1.4142135623730951\n"
     ]
    }
   ],
   "source": [
    "def calculate_stats(numbers):\n",
    "    n = len(numbers)\n",
    "    total = sum(numbers)\n",
    "    average = total / n\n",
    "    variance = sum((x - average)**2 for x in numbers) / n\n",
    "    std_deviation = variance**0.5\n",
    "    return total, average, std_deviation\n",
    "\n",
    "numbers = list(map(float, input(\"Enter 5 numbers: \").split()))\n",
    "total, avg, std_dev = calculate_stats(numbers)\n",
    "print(f\"Sum: {total}, Average: {avg}, Standard Deviation: {std_dev}\")\n"
   ]
  },
  {
   "cell_type": "code",
   "execution_count": null,
   "id": "8fcede8f-cfe3-4ea0-8a85-aac767eef367",
   "metadata": {},
   "outputs": [],
   "source": []
  }
 ],
 "metadata": {
  "kernelspec": {
   "display_name": "Python 3 (ipykernel)",
   "language": "python",
   "name": "python3"
  },
  "language_info": {
   "codemirror_mode": {
    "name": "ipython",
    "version": 3
   },
   "file_extension": ".py",
   "mimetype": "text/x-python",
   "name": "python",
   "nbconvert_exporter": "python",
   "pygments_lexer": "ipython3",
   "version": "3.12.7"
  }
 },
 "nbformat": 4,
 "nbformat_minor": 5
}
