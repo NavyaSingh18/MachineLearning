{
 "cells": [
  {
   "cell_type": "code",
   "execution_count": 3,
   "id": "78cd4b1e-ecc2-44bb-a116-e0274fd96c66",
   "metadata": {},
   "outputs": [
    {
     "name": "stdout",
     "output_type": "stream",
     "text": [
      "Path not found\n"
     ]
    }
   ],
   "source": [
    "from collections import defaultdict  \n",
    "  \n",
    "class Graph:  \n",
    "    def __init__(self):  \n",
    "        self.graph = defaultdict(list)  \n",
    "  \n",
    "    def add_edge(self, u, v):  \n",
    "        self.graph[u].append(v)  \n",
    "  \n",
    "    def iddfs(self, start, goal, max_depth):  \n",
    "        for depth in range(max_depth+1):  \n",
    "            visited = set()  \n",
    "            if self.dls(start, goal, depth, visited):  \n",
    "                return True  \n",
    "        return False  \n",
    "  \n",
    "    def dls(self, node, goal, depth, visited):  \n",
    "        if node == goal:  \n",
    "            return True  \n",
    "        if depth == 0:  \n",
    "            return False  \n",
    "        visited.add(node)  \n",
    "        for neighbor in self.graph[node]:  \n",
    "            if neighbor not in visited:  \n",
    "                if self.dls(neighbor, goal, depth-1, visited):  \n",
    "                    return True  \n",
    "        return False  \n",
    "  \n",
    "# Example usage  \n",
    "g = Graph()  \n",
    "g.add_edge(0, 1)  \n",
    "g.add_edge(0, 2)  \n",
    "g.add_edge(1, 2)  \n",
    "g.add_edge(2, 0)  \n",
    "g.add_edge(2, 3)  \n",
    "g.add_edge(3, 3)  \n",
    "  \n",
    "start = 0  \n",
    "goal = 5 \n",
    "max_depth = 4 \n",
    "if g.iddfs(start, goal, max_depth):  \n",
    "    print(\"Path found\")  \n",
    "else:  \n",
    "    print(\"Path not found\")  "
   ]
  },
  {
   "cell_type": "code",
   "execution_count": 19,
   "id": "326fadc2-770f-4bfc-9277-af2749de4614",
   "metadata": {},
   "outputs": [
    {
     "name": "stdout",
     "output_type": "stream",
     "text": [
      "Path found: [(0, 0), (0, 1), (1, 1), (2, 1), (2, 2), (2, 3), (2, 4), (2, 5), (3, 5), (4, 5), (4, 6), (4, 7), (5, 7), (6, 7), (6, 6), (7, 6), (8, 6), (8, 7), (8, 8), (8, 9), (9, 9)]\n"
     ]
    },
    {
     "data": {
      "image/png": "[encoded data removed]",
      "text/plain": [
       "<Figure size 640x480 with 1 Axes>"
      ]
     },
     "metadata": {},
     "output_type": "display_data"
    }
   ],
   "source": [
    "import matplotlib.pyplot as plt\n",
    "import numpy as np\n",
    "\n",
    "# Define directions for robot movement (up, down, left, right)\n",
    "DIRECTIONS = [(0, 1), (0, -1), (1, 0), (-1, 0)]\n",
    "\n",
    "# Utility to check if a position is within bounds and not an obstacle\n",
    "def is_valid(grid, position):\n",
    "    x, y = position\n",
    "    if 0 <= x < len(grid) and 0 <= y < len(grid[0]) and grid[x][y] != 1:\n",
    "        return True\n",
    "    return False\n",
    "\n",
    "# Iterative Deepening Depth-First Search (IDDFS) Implementation\n",
    "def iddfs(grid, start, goal):\n",
    "    def dls(node, depth, path):\n",
    "        if node == goal:\n",
    "            return path\n",
    "        if depth == 0:\n",
    "            return None\n",
    "        for direction in DIRECTIONS:\n",
    "            new_x, new_y = node[0] + direction[0], node[1] + direction[1]\n",
    "            next_node = (new_x, new_y)\n",
    "            if is_valid(grid, next_node) and next_node not in path:\n",
    "                result = dls(next_node, depth - 1, path + [next_node])\n",
    "                if result:\n",
    "                    return result\n",
    "        return None\n",
    "\n",
    "    depth = 0\n",
    "    while True:\n",
    "        result = dls(start, depth, [start])\n",
    "        if result:\n",
    "            return result\n",
    "        depth += 1\n",
    "\n",
    "# Create a more complex grid (0: open space, 1: obstacle)\n",
    "grid = [\n",
    "    [0, 0, 1, 0, 1, 1, 0, 0, 1, 0],\n",
    "    [1, 0, 1, 0, 1, 0, 0, 1, 1, 0],\n",
    "    [0, 0, 0, 0, 0, 0, 1, 0, 0, 0],\n",
    "    [0, 1, 1, 1, 1, 0, 1, 1, 1, 0],\n",
    "    [0, 0, 0, 1, 0, 0, 0, 0, 1, 0],\n",
    "    [1, 1, 0, 1, 1, 1, 1, 0, 1, 0],\n",
    "    [0, 0, 0, 0, 0, 0, 0, 0, 0, 0],\n",
    "    [1, 1, 0, 1, 1, 1, 0, 1, 1, 1],\n",
    "    [0, 0, 0, 0, 0, 0, 0, 0, 0, 0],\n",
    "    [1, 1, 1, 1, 1, 1, 0, 1, 1, 0]\n",
    "]\n",
    "\n",
    "start = (0, 0)  # Starting position of the robot\n",
    "goal = (9, 9)   # Goal position\n",
    "\n",
    "# Perform IDDFS\n",
    "path = iddfs(grid, start, goal)\n",
    "print(\"Path found:\", path)\n",
    "\n",
    "# Visualization Code\n",
    "def visualize_path(grid, path):\n",
    "    grid_size = (len(grid), len(grid[0]))\n",
    "    grid_visual = np.array(grid)\n",
    "    \n",
    "    # Plot grid with obstacles\n",
    "    plt.imshow(grid_visual, cmap='binary', origin='upper')\n",
    "\n",
    "    # Highlight the path with a red line\n",
    "    path_x = [x for x, y in path]\n",
    "    path_y = [y for x, y in path]\n",
    "    plt.plot(path_y, path_x, color='red', linewidth=2, marker='o')\n",
    "\n",
    "    # Mark start and goal\n",
    "    plt.text(start[1], start[0], 'S', fontsize=12, ha='center', va='center', color='green', fontweight='bold')\n",
    "    plt.text(goal[1], goal[0], 'G', fontsize=12, ha='center', va='center', color='blue', fontweight='bold')\n",
    "\n",
    "    # Grid labels and layout\n",
    "    plt.grid(True)\n",
    "    plt.xticks(range(grid_size[1]))\n",
    "    plt.yticks(range(grid_size[0]))\n",
    "    plt.gca().invert_yaxis()  # To align origin at top-left corner like a typical grid\n",
    "\n",
    "    plt.title(\"Robot Navigation using Iterative Deepening Search (IDDFS)\")\n",
    "    plt.show()\n",
    "\n",
    "# Visualize the result\n",
    "visualize_path(grid, path)\n"
   ]
  },
  {
   "cell_type": "code",
   "execution_count": null,
   "id": "665dda5b-75ce-4e32-8278-878128c36f26",
   "metadata": {},
   "outputs": [],
   "source": []
  }
 ],
 "metadata": {
  "kernelspec": {
   "display_name": "Python (your_environment_name)",
   "language": "python",
   "name": "your_environment_name"
  },
  "language_info": {
   "codemirror_mode": {
    "name": "ipython",
    "version": 3
   },
   "file_extension": ".py",
   "mimetype": "text/x-python",
   "name": "python",
   "nbconvert_exporter": "python",
   "pygments_lexer": "ipython3",
   "version": "3.12.3"
  }
 },
 "nbformat": 4,
 "nbformat_minor": 5
}
