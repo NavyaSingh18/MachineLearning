{
 "cells": [
  {
   "cell_type": "code",
   "execution_count": 2,
   "id": "e0eae162-3c4f-4959-b4d5-5c1bd14f36af",
   "metadata": {},
   "outputs": [
    {
     "name": "stdin",
     "output_type": "stream",
     "text": [
      "Enter Basic Salary:  400000\n"
     ]
    },
    {
     "name": "stdout",
     "output_type": "stream",
     "text": [
      "HRA: ₹80000.00\n",
      "DA: ₹200000.00\n",
      "Gross Salary: ₹680000.00\n",
      "Tax: ₹68000.00\n",
      "Net Salary: ₹612000.00\n"
     ]
    }
   ],
   "source": [
    "def calculate_salary():\n",
    "    basic_salary = float(input(\"Enter Basic Salary: \"))\n",
    "    hra = 0.2 * basic_salary\n",
    "    da = 0.5 * basic_salary\n",
    "    gross_salary = basic_salary + hra + da\n",
    "    tax = 0.1 * gross_salary\n",
    "    net_salary = gross_salary - tax\n",
    "    \n",
    "    print(f\"HRA: ₹{hra:.2f}\")\n",
    "    print(f\"DA: ₹{da:.2f}\")\n",
    "    print(f\"Gross Salary: ₹{gross_salary:.2f}\")\n",
    "    print(f\"Tax: ₹{tax:.2f}\")\n",
    "    print(f\"Net Salary: ₹{net_salary:.2f}\")\n",
    "\n",
    "calculate_salary()"
   ]
  },
  {
   "cell_type": "code",
   "execution_count": 4,
   "id": "a328b154-b24c-4c95-b43d-fa967885d140",
   "metadata": {},
   "outputs": [
    {
     "name": "stdin",
     "output_type": "stream",
     "text": [
      "Enter the number of terms:  10\n"
     ]
    },
    {
     "name": "stdout",
     "output_type": "stream",
     "text": [
      "Fibonacci series: 0, 1, 1, 2, 3, 5, 8, 13, 21, 34"
     ]
    }
   ],
   "source": [
    "def fibonacci_series():\n",
    "    n = int(input(\"Enter the number of terms: \"))\n",
    "    a, b = 0, 1\n",
    "    print(\"Fibonacci series:\", end=\" \")\n",
    "    for _ in range(n):\n",
    "        print(a, end=\", \" if _ < n - 1 else \"\")\n",
    "        a, b = b, a + b\n",
    "\n",
    "fibonacci_series()"
   ]
  },
  {
   "cell_type": "code",
   "execution_count": 11,
   "id": "6b4001d8-e7ee-4d3e-b1b2-99de0e9e1c80",
   "metadata": {},
   "outputs": [
    {
     "name": "stdout",
     "output_type": "stream",
     "text": [
      "Road Trip Cost Calculation\n"
     ]
    },
    {
     "name": "stdin",
     "output_type": "stream",
     "text": [
      "Enter trip distance (in km):  450\n",
      "Enter vehicle fuel efficiency (in km/l):  8\n",
      "Enter fuel price per liter:  150\n"
     ]
    },
    {
     "name": "stdout",
     "output_type": "stream",
     "text": [
      "Total cost of the trip: ₹8437.50\n"
     ]
    }
   ],
   "source": [
    "def calculate_trip_cost():\n",
    "    try:\n",
    "        \n",
    "        distance = float(input(\"Enter trip distance (in km): \"))\n",
    "        fuel_efficiency = float(input(\"Enter vehicle fuel efficiency (in km/l): \"))\n",
    "        fuel_price = float(input(\"Enter fuel price per liter: \"))\n",
    "\n",
    "\n",
    "        if distance < 0 or fuel_efficiency <= 0 or fuel_price < 0:\n",
    "            print(\"Inputs must be positive numbers!\")\n",
    "            return\n",
    "\n",
    "\n",
    "        total_cost = (distance / fuel_efficiency) * fuel_price\n",
    "\n",
    "    \n",
    "        print(f\"Total cost of the trip: ₹{total_cost:.2f}\")\n",
    "    except ValueError:\n",
    "        print(\"Invalid input! Please enter numeric values.\")\n",
    "\n",
    "\n",
    "if __name__ == \"__main__\":\n",
    "    print(\"Road Trip Cost Calculation\")\n",
    "    calculate_trip_cost()\n",
    "\n",
    "    "
   ]
  },
  {
   "cell_type": "code",
   "execution_count": 5,
   "id": "7ed80c57-3ea0-48df-9116-4ffdcce25210",
   "metadata": {},
   "outputs": [
    {
     "name": "stdout",
     "output_type": "stream",
     "text": [
      "\n",
      "1. Add Book\n",
      "2. Update Availability\n",
      "3. Remove Book\n",
      "4. Display All Books\n",
      "5. Exit\n"
     ]
    },
    {
     "name": "stdin",
     "output_type": "stream",
     "text": [
      "Enter your choice:  1\n",
      "Enter Book ID:  101\n",
      "Enter Title:  Python Programming\n",
      "Enter Author:  John Doe\n",
      "Enter Availability (Yes/No):  yes\n"
     ]
    },
    {
     "name": "stdout",
     "output_type": "stream",
     "text": [
      "Book added successfully.\n",
      "\n",
      "1. Add Book\n",
      "2. Update Availability\n",
      "3. Remove Book\n",
      "4. Display All Books\n",
      "5. Exit\n"
     ]
    },
    {
     "name": "stdin",
     "output_type": "stream",
     "text": [
      "Enter your choice:  3\n",
      "Enter Book ID to remove:  101\n"
     ]
    },
    {
     "name": "stdout",
     "output_type": "stream",
     "text": [
      "Book removed successfully.\n",
      "\n",
      "1. Add Book\n",
      "2. Update Availability\n",
      "3. Remove Book\n",
      "4. Display All Books\n",
      "5. Exit\n"
     ]
    },
    {
     "name": "stdin",
     "output_type": "stream",
     "text": [
      "Enter your choice:  5\n"
     ]
    }
   ],
   "source": [
    "library = {}\n",
    "\n",
    "def add_book(book_id, title, author, availability):\n",
    "    library[book_id] = {'Title': title, 'Author': author, 'Availability': availability}\n",
    "    print(\"Book added successfully.\")\n",
    "\n",
    "def update_availability(book_id, availability):\n",
    "    if book_id in library:\n",
    "        library[book_id]['Availability'] = availability\n",
    "        print(\"Availability updated successfully.\")\n",
    "    else:\n",
    "        print(\"Book ID not found.\")\n",
    "\n",
    "def remove_book(book_id):\n",
    "    if book_id in library:\n",
    "        del library[book_id]\n",
    "        print(\"Book removed successfully.\")\n",
    "    else:\n",
    "        print(\"Book ID not found.\")\n",
    "\n",
    "def display_books():\n",
    "    if not library:\n",
    "        print(\"No books in the library.\")\n",
    "    else:\n",
    "        for book_id, details in library.items():\n",
    "            print(f\"Book ID: {book_id}, Details: {details}\")\n",
    "\n",
    "while True:\n",
    "    print(\"\\n1. Add Book\\n2. Update Availability\\n3. Remove Book\\n4. Display All Books\\n5. Exit\")\n",
    "    choice = input(\"Enter your choice: \")\n",
    "    if choice == \"1\":\n",
    "        book_id = input(\"Enter Book ID: \")\n",
    "        title = input(\"Enter Title: \")\n",
    "        author = input(\"Enter Author: \")\n",
    "        availability = input(\"Enter Availability (Yes/No): \")\n",
    "        add_book(book_id, title, author, availability)\n",
    "    elif choice == \"2\":\n",
    "        book_id = input(\"Enter Book ID: \")\n",
    "        availability = input(\"Enter Availability (Yes/No): \")\n",
    "        update_availability(book_id, availability)\n",
    "    elif choice == \"3\":\n",
    "        book_id = input(\"Enter Book ID to remove: \")\n",
    "        remove_book(book_id)\n",
    "    elif choice == \"4\":\n",
    "        display_books()\n",
    "    elif choice == \"5\":\n",
    "        break\n",
    "    else:\n",
    "        print(\"Invalid choice.\")"
   ]
  },
  {
   "cell_type": "code",
   "execution_count": 12,
   "id": "4e80ac48-1dd4-4acd-9234-7b18785f2cee",
   "metadata": {},
   "outputs": [
    {
     "name": "stdout",
     "output_type": "stream",
     "text": [
      "Matrix Operations\n",
      "Matrix A:\n",
      "[[3 9 6]\n",
      " [2 1 7]\n",
      " [7 1 7]]\n",
      "Matrix B:\n",
      "[[ 7  7 10]\n",
      " [10  5  1]\n",
      " [ 5  3  3]]\n",
      "\n",
      "Matrix Addition:\n",
      "[[10 16 16]\n",
      " [12  6  8]\n",
      " [12  4 10]]\n",
      "\n",
      "Matrix Multiplication:\n",
      "[[141  84  57]\n",
      " [ 59  40  42]\n",
      " [ 94  75  92]]\n"
     ]
    }
   ],
   "source": [
    "import numpy as np\n",
    "\n",
    "def matrix_operations():\n",
    "    \n",
    "    matrix_a = np.random.randint(1, 11, size=(3, 3))\n",
    "    matrix_b = np.random.randint(1, 11, size=(3, 3))\n",
    "\n",
    "    \n",
    "    print(\"Matrix A:\")\n",
    "    print(matrix_a)\n",
    "    print(\"Matrix B:\")\n",
    "    print(matrix_b)\n",
    "\n",
    "    \n",
    "    addition_result = matrix_a + matrix_b\n",
    "    print(\"\\nMatrix Addition:\")\n",
    "    print(addition_result)\n",
    "\n",
    "    \n",
    "    multiplication_result = np.dot(matrix_a, matrix_b)\n",
    "    print(\"\\nMatrix Multiplication:\")\n",
    "    print(multiplication_result)\n",
    "\n",
    "\n",
    "if __name__ == \"__main__\":\n",
    "    print(\"Matrix Operations\")\n",
    "    matrix_operations()\n"
   ]
  },
  {
   "cell_type": "code",
   "execution_count": 15,
   "id": "070d9ddc-b784-471e-8913-87383bcc2a30",
   "metadata": {},
   "outputs": [
    {
     "name": "stdin",
     "output_type": "stream",
     "text": [
      "Enter product names (comma-separated):  SUNSCREEN,LIP-BALM,MASCARA\n",
      "Enter units sold (comma-separated):  100,250,150\n",
      "Enter prices per unit (comma-separated):  450,100,650\n"
     ]
    },
    {
     "name": "stdout",
     "output_type": "stream",
     "text": [
      "\n",
      "Sales Data:\n",
      "  Product Name  Units Sold  Price Per Unit  Revenue\n",
      "0    SUNSCREEN         100           450.0  45000.0\n",
      "1     LIP-BALM         250           100.0  25000.0\n",
      "2      MASCARA         150           650.0  97500.0\n",
      "\n",
      "Total Revenue: ₹167500.00\n",
      "Average Price Per Unit: ₹400.00\n",
      "Highest Revenue Product: MASCARA\n"
     ]
    }
   ],
   "source": [
    "import pandas as pd\n",
    "\n",
    "def sales_data_management():\n",
    "    try:\n",
    "\n",
    "        product_names = input(\"Enter product names (comma-separated): \").split(',')\n",
    "        units_sold = list(map(int, input(\"Enter units sold (comma-separated): \").split(',')))\n",
    "        prices = list(map(float, input(\"Enter prices per unit (comma-separated): \").split(',')))\n",
    "\n",
    "\n",
    "        if len(product_names) != len(units_sold) or len(units_sold) != len(prices):\n",
    "            print(\"Error: Mismatched input lengths!\")\n",
    "            return\n",
    "\n",
    "\n",
    "        data = {\n",
    "            \"Product Name\": product_names,\n",
    "            \"Units Sold\": units_sold,\n",
    "            \"Price Per Unit\": prices\n",
    "        }\n",
    "        df = pd.DataFrame(data)\n",
    "\n",
    "    \n",
    "        df[\"Revenue\"] = df[\"Units Sold\"] * df[\"Price Per Unit\"]\n",
    "\n",
    "\n",
    "        print(\"\\nSales Data:\")\n",
    "        print(df)\n",
    "\n",
    "\n",
    "        total_revenue = df[\"Revenue\"].sum()\n",
    "        print(f\"\\nTotal Revenue: ₹{total_revenue:.2f}\")\n",
    "\n",
    "    \n",
    "        average_price = df[\"Price Per Unit\"].mean()\n",
    "        print(f\"Average Price Per Unit: ₹{average_price:.2f}\")\n",
    "\n",
    "    \n",
    "        highest_revenue_product = df.loc[df[\"Revenue\"].idxmax(), \"Product Name\"]\n",
    "        print(f\"Highest Revenue Product: {highest_revenue_product}\")\n",
    "    except ValueError:\n",
    "        print(\"Invalid input! Please ensure all inputs are correctly formatted.\")\n",
    "    except Exception as e:\n",
    "        print(f\"An unexpected error occurred: {e}\")\n",
    "\n",
    "\n",
    "if __name__ == \"__main__\":\n",
    "    sales_data_management()\n"
   ]
  },
  {
   "cell_type": "code",
   "execution_count": null,
   "id": "91aa9114-d455-41a3-aa04-c85e6e7d20c0",
   "metadata": {},
   "outputs": [],
   "source": []
  }
 ],
 "metadata": {
  "kernelspec": {
   "display_name": "Python (your_environment_name)",
   "language": "python",
   "name": "your_environment_name"
  },
  "language_info": {
   "codemirror_mode": {
    "name": "ipython",
    "version": 3
   },
   "file_extension": ".py",
   "mimetype": "text/x-python",
   "name": "python",
   "nbconvert_exporter": "python",
   "pygments_lexer": "ipython3",
   "version": "3.12.3"
  }
 },
 "nbformat": 4,
 "nbformat_minor": 5
}
